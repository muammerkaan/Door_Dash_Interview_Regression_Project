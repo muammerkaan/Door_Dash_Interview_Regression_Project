{
 "cells": [
  {
   "attachments": {},
   "cell_type": "markdown",
   "metadata": {},
   "source": [
    "# DoorDash Interview Regression Project"
   ]
  },
  {
   "cell_type": "code",
   "execution_count": 1,
   "metadata": {},
   "outputs": [],
   "source": [
    "# Import libraries.\n",
    "import numpy as np\n",
    "import pandas as pd\n",
    "import seaborn as sns\n",
    "import matplotlib.pyplot as plt\n",
    "import plotly.express as px\n",
    "import datetime\n",
    "%matplotlib inline\n",
    "\n",
    "import statsmodels.api as sm\n",
    "from sklearn.model_selection import train_test_split\n",
    "from sklearn.preprocessing import StandardScaler\n",
    "from sklearn import metrics\n",
    "from sklearn.model_selection import GridSearchCV\n",
    "from sklearn.linear_model import LinearRegression\n",
    "from sklearn.svm import SVR\n",
    "from sklearn.ensemble import RandomForestRegressor\n",
    "from sklearn.ensemble import GradientBoostingRegressor\n",
    "from sklearn.model_selection import cross_val_score"
   ]
  },
  {
   "cell_type": "code",
   "execution_count": 2,
   "metadata": {},
   "outputs": [
    {
     "data": {
      "text/html": [
       "<div>\n",
       "<style scoped>\n",
       "    .dataframe tbody tr th:only-of-type {\n",
       "        vertical-align: middle;\n",
       "    }\n",
       "\n",
       "    .dataframe tbody tr th {\n",
       "        vertical-align: top;\n",
       "    }\n",
       "\n",
       "    .dataframe thead th {\n",
       "        text-align: right;\n",
       "    }\n",
       "</style>\n",
       "<table border=\"1\" class=\"dataframe\">\n",
       "  <thead>\n",
       "    <tr style=\"text-align: right;\">\n",
       "      <th></th>\n",
       "      <th>market_id</th>\n",
       "      <th>created_at</th>\n",
       "      <th>actual_delivery_time</th>\n",
       "      <th>store_id</th>\n",
       "      <th>store_primary_category</th>\n",
       "      <th>order_protocol</th>\n",
       "      <th>total_items</th>\n",
       "      <th>subtotal</th>\n",
       "      <th>num_distinct_items</th>\n",
       "      <th>min_item_price</th>\n",
       "      <th>max_item_price</th>\n",
       "      <th>total_onshift_dashers</th>\n",
       "      <th>total_busy_dashers</th>\n",
       "      <th>total_outstanding_orders</th>\n",
       "      <th>estimated_order_place_duration</th>\n",
       "      <th>estimated_store_to_consumer_driving_duration</th>\n",
       "    </tr>\n",
       "  </thead>\n",
       "  <tbody>\n",
       "    <tr>\n",
       "      <th>0</th>\n",
       "      <td>1.0</td>\n",
       "      <td>2015-02-06 22:24:17</td>\n",
       "      <td>2015-02-06 23:27:16</td>\n",
       "      <td>1845</td>\n",
       "      <td>american</td>\n",
       "      <td>1.0</td>\n",
       "      <td>4</td>\n",
       "      <td>3441</td>\n",
       "      <td>4</td>\n",
       "      <td>557</td>\n",
       "      <td>1239</td>\n",
       "      <td>33.0</td>\n",
       "      <td>14.0</td>\n",
       "      <td>21.0</td>\n",
       "      <td>446</td>\n",
       "      <td>861.0</td>\n",
       "    </tr>\n",
       "    <tr>\n",
       "      <th>1</th>\n",
       "      <td>2.0</td>\n",
       "      <td>2015-02-10 21:49:25</td>\n",
       "      <td>2015-02-10 22:56:29</td>\n",
       "      <td>5477</td>\n",
       "      <td>mexican</td>\n",
       "      <td>2.0</td>\n",
       "      <td>1</td>\n",
       "      <td>1900</td>\n",
       "      <td>1</td>\n",
       "      <td>1400</td>\n",
       "      <td>1400</td>\n",
       "      <td>1.0</td>\n",
       "      <td>2.0</td>\n",
       "      <td>2.0</td>\n",
       "      <td>446</td>\n",
       "      <td>690.0</td>\n",
       "    </tr>\n",
       "    <tr>\n",
       "      <th>2</th>\n",
       "      <td>3.0</td>\n",
       "      <td>2015-01-22 20:39:28</td>\n",
       "      <td>2015-01-22 21:09:09</td>\n",
       "      <td>5477</td>\n",
       "      <td>NaN</td>\n",
       "      <td>1.0</td>\n",
       "      <td>1</td>\n",
       "      <td>1900</td>\n",
       "      <td>1</td>\n",
       "      <td>1900</td>\n",
       "      <td>1900</td>\n",
       "      <td>1.0</td>\n",
       "      <td>0.0</td>\n",
       "      <td>0.0</td>\n",
       "      <td>446</td>\n",
       "      <td>690.0</td>\n",
       "    </tr>\n",
       "    <tr>\n",
       "      <th>3</th>\n",
       "      <td>3.0</td>\n",
       "      <td>2015-02-03 21:21:45</td>\n",
       "      <td>2015-02-03 22:13:00</td>\n",
       "      <td>5477</td>\n",
       "      <td>NaN</td>\n",
       "      <td>1.0</td>\n",
       "      <td>6</td>\n",
       "      <td>6900</td>\n",
       "      <td>5</td>\n",
       "      <td>600</td>\n",
       "      <td>1800</td>\n",
       "      <td>1.0</td>\n",
       "      <td>1.0</td>\n",
       "      <td>2.0</td>\n",
       "      <td>446</td>\n",
       "      <td>289.0</td>\n",
       "    </tr>\n",
       "    <tr>\n",
       "      <th>4</th>\n",
       "      <td>3.0</td>\n",
       "      <td>2015-02-15 02:40:36</td>\n",
       "      <td>2015-02-15 03:20:26</td>\n",
       "      <td>5477</td>\n",
       "      <td>NaN</td>\n",
       "      <td>1.0</td>\n",
       "      <td>3</td>\n",
       "      <td>3900</td>\n",
       "      <td>3</td>\n",
       "      <td>1100</td>\n",
       "      <td>1600</td>\n",
       "      <td>6.0</td>\n",
       "      <td>6.0</td>\n",
       "      <td>9.0</td>\n",
       "      <td>446</td>\n",
       "      <td>650.0</td>\n",
       "    </tr>\n",
       "  </tbody>\n",
       "</table>\n",
       "</div>"
      ],
      "text/plain": [
       "   market_id           created_at actual_delivery_time  store_id  \\\n",
       "0        1.0  2015-02-06 22:24:17  2015-02-06 23:27:16      1845   \n",
       "1        2.0  2015-02-10 21:49:25  2015-02-10 22:56:29      5477   \n",
       "2        3.0  2015-01-22 20:39:28  2015-01-22 21:09:09      5477   \n",
       "3        3.0  2015-02-03 21:21:45  2015-02-03 22:13:00      5477   \n",
       "4        3.0  2015-02-15 02:40:36  2015-02-15 03:20:26      5477   \n",
       "\n",
       "  store_primary_category  order_protocol  total_items  subtotal  \\\n",
       "0               american             1.0            4      3441   \n",
       "1                mexican             2.0            1      1900   \n",
       "2                    NaN             1.0            1      1900   \n",
       "3                    NaN             1.0            6      6900   \n",
       "4                    NaN             1.0            3      3900   \n",
       "\n",
       "   num_distinct_items  min_item_price  max_item_price  total_onshift_dashers  \\\n",
       "0                   4             557            1239                   33.0   \n",
       "1                   1            1400            1400                    1.0   \n",
       "2                   1            1900            1900                    1.0   \n",
       "3                   5             600            1800                    1.0   \n",
       "4                   3            1100            1600                    6.0   \n",
       "\n",
       "   total_busy_dashers  total_outstanding_orders  \\\n",
       "0                14.0                      21.0   \n",
       "1                 2.0                       2.0   \n",
       "2                 0.0                       0.0   \n",
       "3                 1.0                       2.0   \n",
       "4                 6.0                       9.0   \n",
       "\n",
       "   estimated_order_place_duration  \\\n",
       "0                             446   \n",
       "1                             446   \n",
       "2                             446   \n",
       "3                             446   \n",
       "4                             446   \n",
       "\n",
       "   estimated_store_to_consumer_driving_duration  \n",
       "0                                         861.0  \n",
       "1                                         690.0  \n",
       "2                                         690.0  \n",
       "3                                         289.0  \n",
       "4                                         650.0  "
      ]
     },
     "execution_count": 2,
     "metadata": {},
     "output_type": "execute_result"
    }
   ],
   "source": [
    "# Import Data.\n",
    "df = pd.read_csv('historical_data.csv')\n",
    "df.head()"
   ]
  },
  {
   "cell_type": "code",
   "execution_count": 3,
   "metadata": {},
   "outputs": [
    {
     "name": "stdout",
     "output_type": "stream",
     "text": [
      "<class 'pandas.core.frame.DataFrame'>\n",
      "RangeIndex: 197428 entries, 0 to 197427\n",
      "Data columns (total 16 columns):\n",
      " #   Column                                        Non-Null Count   Dtype  \n",
      "---  ------                                        --------------   -----  \n",
      " 0   market_id                                     196441 non-null  float64\n",
      " 1   created_at                                    197428 non-null  object \n",
      " 2   actual_delivery_time                          197421 non-null  object \n",
      " 3   store_id                                      197428 non-null  int64  \n",
      " 4   store_primary_category                        192668 non-null  object \n",
      " 5   order_protocol                                196433 non-null  float64\n",
      " 6   total_items                                   197428 non-null  int64  \n",
      " 7   subtotal                                      197428 non-null  int64  \n",
      " 8   num_distinct_items                            197428 non-null  int64  \n",
      " 9   min_item_price                                197428 non-null  int64  \n",
      " 10  max_item_price                                197428 non-null  int64  \n",
      " 11  total_onshift_dashers                         181166 non-null  float64\n",
      " 12  total_busy_dashers                            181166 non-null  float64\n",
      " 13  total_outstanding_orders                      181166 non-null  float64\n",
      " 14  estimated_order_place_duration                197428 non-null  int64  \n",
      " 15  estimated_store_to_consumer_driving_duration  196902 non-null  float64\n",
      "dtypes: float64(6), int64(7), object(3)\n",
      "memory usage: 24.1+ MB\n"
     ]
    }
   ],
   "source": [
    "df.info()"
   ]
  },
  {
   "cell_type": "markdown",
   "metadata": {},
   "source": [
    "# Feature Engineering"
   ]
  },
  {
   "attachments": {},
   "cell_type": "markdown",
   "metadata": {},
   "source": [
    "* Creating dependant variable.\n",
    "* Creating 3 useful predictor variables.\n",
    "* One hot encoding 3 categorical variables. "
   ]
  },
  {
   "cell_type": "code",
   "execution_count": 4,
   "metadata": {},
   "outputs": [],
   "source": [
    "# Convert date columns to datetime format.\n",
    "df['actual_delivery_time'] = pd.to_datetime(df['actual_delivery_time'])\n",
    "df['created_at'] = pd.to_datetime(df['created_at'])"
   ]
  },
  {
   "cell_type": "code",
   "execution_count": 5,
   "metadata": {},
   "outputs": [],
   "source": [
    "# Create variable for the total duration of the order. This is our dependant variable.\n",
    "df['total_duration'] = df['actual_delivery_time'] - df['created_at']\n",
    "\n",
    "# Change the total_duration column to display the total secounds.\n",
    "df['total_duration'] = df['total_duration'].apply(lambda x: x.total_seconds())"
   ]
  },
  {
   "cell_type": "code",
   "execution_count": 6,
   "metadata": {},
   "outputs": [],
   "source": [
    "# Create variable for the ratio of busy dashers to onshift dashers.\n",
    "df['ratio_busy_dashers'] = df['total_busy_dashers']/df['total_onshift_dashers']"
   ]
  },
  {
   "cell_type": "code",
   "execution_count": 7,
   "metadata": {},
   "outputs": [],
   "source": [
    "# Create a variable for the total estimated time an order is not being prepared.\n",
    "df['estimated_non_prep_duration'] = df['estimated_store_to_consumer_driving_duration'] + df['estimated_order_place_duration']"
   ]
  },
  {
   "attachments": {},
   "cell_type": "markdown",
   "metadata": {},
   "source": [
    "store_primary_category has a lot of missing values and we will fill them using the most common value for each store, with store_id being the reference variable. "
   ]
  },
  {
   "cell_type": "code",
   "execution_count": 8,
   "metadata": {},
   "outputs": [],
   "source": [
    "# Create a reference dictionary with the most frequent categories of each store.\n",
    "store_id_unique = df['store_id'].unique().tolist()\n",
    "store_id_and_category = {store_id: df[df.store_id == store_id].store_primary_category.mode()\n",
    "                         for store_id in store_id_unique}"
   ]
  },
  {
   "cell_type": "code",
   "execution_count": 9,
   "metadata": {},
   "outputs": [],
   "source": [
    "# Define function 'fill' to return the primary_store_category value from the dictionary.\n",
    "def fill(store_id):\n",
    "    \"\"\"Return primary store category from the dictionary\"\"\"\n",
    "    try: \n",
    "        return store_id_and_category[store_id].values[0]\n",
    "    except: \n",
    "        return np.NaN\n",
    "    \n",
    "# Apply our fill function to fill the nan values into a new variable.  \n",
    "df[\"nan_free_store_primary_category\"] = df.store_id.apply(fill)"
   ]
  },
  {
   "cell_type": "code",
   "execution_count": 10,
   "metadata": {},
   "outputs": [
    {
     "name": "stdout",
     "output_type": "stream",
     "text": [
      "Number of unique values in market_id: 6\n",
      "Number of unique values in order_protocol: 7\n",
      "Number of unique values in store_id: 6743\n",
      "Number of unique values in nan_free_store_primary_category: 74\n"
     ]
    }
   ],
   "source": [
    "# Check the number of unique values in each of the categorical variables.\n",
    "print('Number of unique values in market_id:', df['market_id'].nunique())\n",
    "print('Number of unique values in order_protocol:', df['order_protocol'].nunique())\n",
    "print('Number of unique values in store_id:', df['store_id'].nunique())\n",
    "print('Number of unique values in nan_free_store_primary_category:', df['nan_free_store_primary_category'].nunique())"
   ]
  },
  {
   "attachments": {},
   "cell_type": "markdown",
   "metadata": {},
   "source": [
    "We will one hot encode the market_id, order_protocol and nan_free_store_primary_category variables as they have a small amount of unique values."
   ]
  },
  {
   "cell_type": "code",
   "execution_count": 11,
   "metadata": {},
   "outputs": [],
   "source": [
    "# Create dummy variables for market_id.\n",
    "market_id_dummies = pd.get_dummies(df.market_id)\n",
    "market_id_dummies = market_id_dummies.add_prefix('market_id_')\n",
    "\n",
    "# Create dummy variables for order_protocol.\n",
    "order_protocol_dummies = pd.get_dummies(df.order_protocol)\n",
    "order_protocol_dummies = order_protocol_dummies.add_prefix('order_protocol_')\n",
    "\n",
    "# Create dummy variables for nan_free_store_primary_category.\n",
    "store_primary_category_dummies = pd.get_dummies(df.nan_free_store_primary_category)\n",
    "store_primary_category_dummies = store_primary_category_dummies.add_prefix('category_')"
   ]
  },
  {
   "cell_type": "code",
   "execution_count": 12,
   "metadata": {},
   "outputs": [
    {
     "data": {
      "text/html": [
       "<div>\n",
       "<style scoped>\n",
       "    .dataframe tbody tr th:only-of-type {\n",
       "        vertical-align: middle;\n",
       "    }\n",
       "\n",
       "    .dataframe tbody tr th {\n",
       "        vertical-align: top;\n",
       "    }\n",
       "\n",
       "    .dataframe thead th {\n",
       "        text-align: right;\n",
       "    }\n",
       "</style>\n",
       "<table border=\"1\" class=\"dataframe\">\n",
       "  <thead>\n",
       "    <tr style=\"text-align: right;\">\n",
       "      <th></th>\n",
       "      <th>market_id</th>\n",
       "      <th>created_at</th>\n",
       "      <th>actual_delivery_time</th>\n",
       "      <th>store_id</th>\n",
       "      <th>store_primary_category</th>\n",
       "      <th>order_protocol</th>\n",
       "      <th>total_items</th>\n",
       "      <th>subtotal</th>\n",
       "      <th>num_distinct_items</th>\n",
       "      <th>min_item_price</th>\n",
       "      <th>max_item_price</th>\n",
       "      <th>total_onshift_dashers</th>\n",
       "      <th>total_busy_dashers</th>\n",
       "      <th>total_outstanding_orders</th>\n",
       "      <th>estimated_order_place_duration</th>\n",
       "      <th>estimated_store_to_consumer_driving_duration</th>\n",
       "      <th>total_duration</th>\n",
       "      <th>ratio_busy_dashers</th>\n",
       "      <th>estimated_non_prep_duration</th>\n",
       "      <th>nan_free_store_primary_category</th>\n",
       "    </tr>\n",
       "  </thead>\n",
       "  <tbody>\n",
       "    <tr>\n",
       "      <th>0</th>\n",
       "      <td>1.0</td>\n",
       "      <td>2015-02-06 22:24:17</td>\n",
       "      <td>2015-02-06 23:27:16</td>\n",
       "      <td>1845</td>\n",
       "      <td>american</td>\n",
       "      <td>1.0</td>\n",
       "      <td>4</td>\n",
       "      <td>3441</td>\n",
       "      <td>4</td>\n",
       "      <td>557</td>\n",
       "      <td>1239</td>\n",
       "      <td>33.0</td>\n",
       "      <td>14.0</td>\n",
       "      <td>21.0</td>\n",
       "      <td>446</td>\n",
       "      <td>861.0</td>\n",
       "      <td>3779.0</td>\n",
       "      <td>0.424242</td>\n",
       "      <td>1307.0</td>\n",
       "      <td>american</td>\n",
       "    </tr>\n",
       "    <tr>\n",
       "      <th>1</th>\n",
       "      <td>2.0</td>\n",
       "      <td>2015-02-10 21:49:25</td>\n",
       "      <td>2015-02-10 22:56:29</td>\n",
       "      <td>5477</td>\n",
       "      <td>mexican</td>\n",
       "      <td>2.0</td>\n",
       "      <td>1</td>\n",
       "      <td>1900</td>\n",
       "      <td>1</td>\n",
       "      <td>1400</td>\n",
       "      <td>1400</td>\n",
       "      <td>1.0</td>\n",
       "      <td>2.0</td>\n",
       "      <td>2.0</td>\n",
       "      <td>446</td>\n",
       "      <td>690.0</td>\n",
       "      <td>4024.0</td>\n",
       "      <td>2.000000</td>\n",
       "      <td>1136.0</td>\n",
       "      <td>indian</td>\n",
       "    </tr>\n",
       "    <tr>\n",
       "      <th>2</th>\n",
       "      <td>3.0</td>\n",
       "      <td>2015-01-22 20:39:28</td>\n",
       "      <td>2015-01-22 21:09:09</td>\n",
       "      <td>5477</td>\n",
       "      <td>NaN</td>\n",
       "      <td>1.0</td>\n",
       "      <td>1</td>\n",
       "      <td>1900</td>\n",
       "      <td>1</td>\n",
       "      <td>1900</td>\n",
       "      <td>1900</td>\n",
       "      <td>1.0</td>\n",
       "      <td>0.0</td>\n",
       "      <td>0.0</td>\n",
       "      <td>446</td>\n",
       "      <td>690.0</td>\n",
       "      <td>1781.0</td>\n",
       "      <td>0.000000</td>\n",
       "      <td>1136.0</td>\n",
       "      <td>indian</td>\n",
       "    </tr>\n",
       "    <tr>\n",
       "      <th>3</th>\n",
       "      <td>3.0</td>\n",
       "      <td>2015-02-03 21:21:45</td>\n",
       "      <td>2015-02-03 22:13:00</td>\n",
       "      <td>5477</td>\n",
       "      <td>NaN</td>\n",
       "      <td>1.0</td>\n",
       "      <td>6</td>\n",
       "      <td>6900</td>\n",
       "      <td>5</td>\n",
       "      <td>600</td>\n",
       "      <td>1800</td>\n",
       "      <td>1.0</td>\n",
       "      <td>1.0</td>\n",
       "      <td>2.0</td>\n",
       "      <td>446</td>\n",
       "      <td>289.0</td>\n",
       "      <td>3075.0</td>\n",
       "      <td>1.000000</td>\n",
       "      <td>735.0</td>\n",
       "      <td>indian</td>\n",
       "    </tr>\n",
       "    <tr>\n",
       "      <th>4</th>\n",
       "      <td>3.0</td>\n",
       "      <td>2015-02-15 02:40:36</td>\n",
       "      <td>2015-02-15 03:20:26</td>\n",
       "      <td>5477</td>\n",
       "      <td>NaN</td>\n",
       "      <td>1.0</td>\n",
       "      <td>3</td>\n",
       "      <td>3900</td>\n",
       "      <td>3</td>\n",
       "      <td>1100</td>\n",
       "      <td>1600</td>\n",
       "      <td>6.0</td>\n",
       "      <td>6.0</td>\n",
       "      <td>9.0</td>\n",
       "      <td>446</td>\n",
       "      <td>650.0</td>\n",
       "      <td>2390.0</td>\n",
       "      <td>1.000000</td>\n",
       "      <td>1096.0</td>\n",
       "      <td>indian</td>\n",
       "    </tr>\n",
       "  </tbody>\n",
       "</table>\n",
       "</div>"
      ],
      "text/plain": [
       "   market_id          created_at actual_delivery_time  store_id  \\\n",
       "0        1.0 2015-02-06 22:24:17  2015-02-06 23:27:16      1845   \n",
       "1        2.0 2015-02-10 21:49:25  2015-02-10 22:56:29      5477   \n",
       "2        3.0 2015-01-22 20:39:28  2015-01-22 21:09:09      5477   \n",
       "3        3.0 2015-02-03 21:21:45  2015-02-03 22:13:00      5477   \n",
       "4        3.0 2015-02-15 02:40:36  2015-02-15 03:20:26      5477   \n",
       "\n",
       "  store_primary_category  order_protocol  total_items  subtotal  \\\n",
       "0               american             1.0            4      3441   \n",
       "1                mexican             2.0            1      1900   \n",
       "2                    NaN             1.0            1      1900   \n",
       "3                    NaN             1.0            6      6900   \n",
       "4                    NaN             1.0            3      3900   \n",
       "\n",
       "   num_distinct_items  min_item_price  max_item_price  total_onshift_dashers  \\\n",
       "0                   4             557            1239                   33.0   \n",
       "1                   1            1400            1400                    1.0   \n",
       "2                   1            1900            1900                    1.0   \n",
       "3                   5             600            1800                    1.0   \n",
       "4                   3            1100            1600                    6.0   \n",
       "\n",
       "   total_busy_dashers  total_outstanding_orders  \\\n",
       "0                14.0                      21.0   \n",
       "1                 2.0                       2.0   \n",
       "2                 0.0                       0.0   \n",
       "3                 1.0                       2.0   \n",
       "4                 6.0                       9.0   \n",
       "\n",
       "   estimated_order_place_duration  \\\n",
       "0                             446   \n",
       "1                             446   \n",
       "2                             446   \n",
       "3                             446   \n",
       "4                             446   \n",
       "\n",
       "   estimated_store_to_consumer_driving_duration  total_duration  \\\n",
       "0                                         861.0          3779.0   \n",
       "1                                         690.0          4024.0   \n",
       "2                                         690.0          1781.0   \n",
       "3                                         289.0          3075.0   \n",
       "4                                         650.0          2390.0   \n",
       "\n",
       "   ratio_busy_dashers  estimated_non_prep_duration  \\\n",
       "0            0.424242                       1307.0   \n",
       "1            2.000000                       1136.0   \n",
       "2            0.000000                       1136.0   \n",
       "3            1.000000                        735.0   \n",
       "4            1.000000                       1096.0   \n",
       "\n",
       "  nan_free_store_primary_category  \n",
       "0                        american  \n",
       "1                          indian  \n",
       "2                          indian  \n",
       "3                          indian  \n",
       "4                          indian  "
      ]
     },
     "execution_count": 12,
     "metadata": {},
     "output_type": "execute_result"
    }
   ],
   "source": [
    "df.head()"
   ]
  },
  {
   "attachments": {},
   "cell_type": "markdown",
   "metadata": {},
   "source": [
    "# Data Preprocessing"
   ]
  },
  {
   "attachments": {},
   "cell_type": "markdown",
   "metadata": {},
   "source": [
    "* Drop unnecessary features.\n",
    "* Concat dummy variables to our training dataset.\n",
    "* Align data types across the whole dataset.\n",
    "* Drop infinite values."
   ]
  },
  {
   "cell_type": "code",
   "execution_count": 13,
   "metadata": {},
   "outputs": [],
   "source": [
    "# Drop unnecessary features from the training dataset.\n",
    "train_df = df.drop(columns = ['created_at', 'market_id', 'store_id', 'order_protocol', 'store_primary_category', \n",
    "                              'actual_delivery_time', 'nan_free_store_primary_category'])"
   ]
  },
  {
   "cell_type": "code",
   "execution_count": 14,
   "metadata": {},
   "outputs": [],
   "source": [
    "# Concat dummy variables to our training dataset.\n",
    "train_df = pd.concat([train_df, order_protocol_dummies, market_id_dummies, store_primary_category_dummies], axis=1)"
   ]
  },
  {
   "cell_type": "code",
   "execution_count": 15,
   "metadata": {},
   "outputs": [],
   "source": [
    "# Align data types across the whole dataset.\n",
    "train_df = train_df.astype('float32')"
   ]
  },
  {
   "cell_type": "code",
   "execution_count": 16,
   "metadata": {},
   "outputs": [],
   "source": [
    "# Drop infinite values.\n",
    "train_df.replace([np.inf, -np.inf], np.nan, inplace=True)\n",
    "train_df.dropna(inplace=True)"
   ]
  },
  {
   "cell_type": "code",
   "execution_count": 17,
   "metadata": {},
   "outputs": [
    {
     "data": {
      "text/html": [
       "<div>\n",
       "<style scoped>\n",
       "    .dataframe tbody tr th:only-of-type {\n",
       "        vertical-align: middle;\n",
       "    }\n",
       "\n",
       "    .dataframe tbody tr th {\n",
       "        vertical-align: top;\n",
       "    }\n",
       "\n",
       "    .dataframe thead th {\n",
       "        text-align: right;\n",
       "    }\n",
       "</style>\n",
       "<table border=\"1\" class=\"dataframe\">\n",
       "  <thead>\n",
       "    <tr style=\"text-align: right;\">\n",
       "      <th></th>\n",
       "      <th>total_items</th>\n",
       "      <th>subtotal</th>\n",
       "      <th>num_distinct_items</th>\n",
       "      <th>min_item_price</th>\n",
       "      <th>max_item_price</th>\n",
       "      <th>total_onshift_dashers</th>\n",
       "      <th>total_busy_dashers</th>\n",
       "      <th>total_outstanding_orders</th>\n",
       "      <th>estimated_order_place_duration</th>\n",
       "      <th>estimated_store_to_consumer_driving_duration</th>\n",
       "      <th>...</th>\n",
       "      <th>category_southern</th>\n",
       "      <th>category_spanish</th>\n",
       "      <th>category_steak</th>\n",
       "      <th>category_sushi</th>\n",
       "      <th>category_tapas</th>\n",
       "      <th>category_thai</th>\n",
       "      <th>category_turkish</th>\n",
       "      <th>category_vegan</th>\n",
       "      <th>category_vegetarian</th>\n",
       "      <th>category_vietnamese</th>\n",
       "    </tr>\n",
       "  </thead>\n",
       "  <tbody>\n",
       "    <tr>\n",
       "      <th>0</th>\n",
       "      <td>4.0</td>\n",
       "      <td>3441.0</td>\n",
       "      <td>4.0</td>\n",
       "      <td>557.0</td>\n",
       "      <td>1239.0</td>\n",
       "      <td>33.0</td>\n",
       "      <td>14.0</td>\n",
       "      <td>21.0</td>\n",
       "      <td>446.0</td>\n",
       "      <td>861.0</td>\n",
       "      <td>...</td>\n",
       "      <td>0.0</td>\n",
       "      <td>0.0</td>\n",
       "      <td>0.0</td>\n",
       "      <td>0.0</td>\n",
       "      <td>0.0</td>\n",
       "      <td>0.0</td>\n",
       "      <td>0.0</td>\n",
       "      <td>0.0</td>\n",
       "      <td>0.0</td>\n",
       "      <td>0.0</td>\n",
       "    </tr>\n",
       "    <tr>\n",
       "      <th>1</th>\n",
       "      <td>1.0</td>\n",
       "      <td>1900.0</td>\n",
       "      <td>1.0</td>\n",
       "      <td>1400.0</td>\n",
       "      <td>1400.0</td>\n",
       "      <td>1.0</td>\n",
       "      <td>2.0</td>\n",
       "      <td>2.0</td>\n",
       "      <td>446.0</td>\n",
       "      <td>690.0</td>\n",
       "      <td>...</td>\n",
       "      <td>0.0</td>\n",
       "      <td>0.0</td>\n",
       "      <td>0.0</td>\n",
       "      <td>0.0</td>\n",
       "      <td>0.0</td>\n",
       "      <td>0.0</td>\n",
       "      <td>0.0</td>\n",
       "      <td>0.0</td>\n",
       "      <td>0.0</td>\n",
       "      <td>0.0</td>\n",
       "    </tr>\n",
       "    <tr>\n",
       "      <th>2</th>\n",
       "      <td>1.0</td>\n",
       "      <td>1900.0</td>\n",
       "      <td>1.0</td>\n",
       "      <td>1900.0</td>\n",
       "      <td>1900.0</td>\n",
       "      <td>1.0</td>\n",
       "      <td>0.0</td>\n",
       "      <td>0.0</td>\n",
       "      <td>446.0</td>\n",
       "      <td>690.0</td>\n",
       "      <td>...</td>\n",
       "      <td>0.0</td>\n",
       "      <td>0.0</td>\n",
       "      <td>0.0</td>\n",
       "      <td>0.0</td>\n",
       "      <td>0.0</td>\n",
       "      <td>0.0</td>\n",
       "      <td>0.0</td>\n",
       "      <td>0.0</td>\n",
       "      <td>0.0</td>\n",
       "      <td>0.0</td>\n",
       "    </tr>\n",
       "    <tr>\n",
       "      <th>3</th>\n",
       "      <td>6.0</td>\n",
       "      <td>6900.0</td>\n",
       "      <td>5.0</td>\n",
       "      <td>600.0</td>\n",
       "      <td>1800.0</td>\n",
       "      <td>1.0</td>\n",
       "      <td>1.0</td>\n",
       "      <td>2.0</td>\n",
       "      <td>446.0</td>\n",
       "      <td>289.0</td>\n",
       "      <td>...</td>\n",
       "      <td>0.0</td>\n",
       "      <td>0.0</td>\n",
       "      <td>0.0</td>\n",
       "      <td>0.0</td>\n",
       "      <td>0.0</td>\n",
       "      <td>0.0</td>\n",
       "      <td>0.0</td>\n",
       "      <td>0.0</td>\n",
       "      <td>0.0</td>\n",
       "      <td>0.0</td>\n",
       "    </tr>\n",
       "    <tr>\n",
       "      <th>4</th>\n",
       "      <td>3.0</td>\n",
       "      <td>3900.0</td>\n",
       "      <td>3.0</td>\n",
       "      <td>1100.0</td>\n",
       "      <td>1600.0</td>\n",
       "      <td>6.0</td>\n",
       "      <td>6.0</td>\n",
       "      <td>9.0</td>\n",
       "      <td>446.0</td>\n",
       "      <td>650.0</td>\n",
       "      <td>...</td>\n",
       "      <td>0.0</td>\n",
       "      <td>0.0</td>\n",
       "      <td>0.0</td>\n",
       "      <td>0.0</td>\n",
       "      <td>0.0</td>\n",
       "      <td>0.0</td>\n",
       "      <td>0.0</td>\n",
       "      <td>0.0</td>\n",
       "      <td>0.0</td>\n",
       "      <td>0.0</td>\n",
       "    </tr>\n",
       "  </tbody>\n",
       "</table>\n",
       "<p>5 rows × 100 columns</p>\n",
       "</div>"
      ],
      "text/plain": [
       "   total_items  subtotal  num_distinct_items  min_item_price  max_item_price  \\\n",
       "0          4.0    3441.0                 4.0           557.0          1239.0   \n",
       "1          1.0    1900.0                 1.0          1400.0          1400.0   \n",
       "2          1.0    1900.0                 1.0          1900.0          1900.0   \n",
       "3          6.0    6900.0                 5.0           600.0          1800.0   \n",
       "4          3.0    3900.0                 3.0          1100.0          1600.0   \n",
       "\n",
       "   total_onshift_dashers  total_busy_dashers  total_outstanding_orders  \\\n",
       "0                   33.0                14.0                      21.0   \n",
       "1                    1.0                 2.0                       2.0   \n",
       "2                    1.0                 0.0                       0.0   \n",
       "3                    1.0                 1.0                       2.0   \n",
       "4                    6.0                 6.0                       9.0   \n",
       "\n",
       "   estimated_order_place_duration  \\\n",
       "0                           446.0   \n",
       "1                           446.0   \n",
       "2                           446.0   \n",
       "3                           446.0   \n",
       "4                           446.0   \n",
       "\n",
       "   estimated_store_to_consumer_driving_duration  ...  category_southern  \\\n",
       "0                                         861.0  ...                0.0   \n",
       "1                                         690.0  ...                0.0   \n",
       "2                                         690.0  ...                0.0   \n",
       "3                                         289.0  ...                0.0   \n",
       "4                                         650.0  ...                0.0   \n",
       "\n",
       "   category_spanish  category_steak  category_sushi  category_tapas  \\\n",
       "0               0.0             0.0             0.0             0.0   \n",
       "1               0.0             0.0             0.0             0.0   \n",
       "2               0.0             0.0             0.0             0.0   \n",
       "3               0.0             0.0             0.0             0.0   \n",
       "4               0.0             0.0             0.0             0.0   \n",
       "\n",
       "   category_thai  category_turkish  category_vegan  category_vegetarian  \\\n",
       "0            0.0               0.0             0.0                  0.0   \n",
       "1            0.0               0.0             0.0                  0.0   \n",
       "2            0.0               0.0             0.0                  0.0   \n",
       "3            0.0               0.0             0.0                  0.0   \n",
       "4            0.0               0.0             0.0                  0.0   \n",
       "\n",
       "   category_vietnamese  \n",
       "0                  0.0  \n",
       "1                  0.0  \n",
       "2                  0.0  \n",
       "3                  0.0  \n",
       "4                  0.0  \n",
       "\n",
       "[5 rows x 100 columns]"
      ]
     },
     "execution_count": 17,
     "metadata": {},
     "output_type": "execute_result"
    }
   ],
   "source": [
    "train_df.head()"
   ]
  },
  {
   "attachments": {},
   "cell_type": "markdown",
   "metadata": {},
   "source": [
    "# Removing Collinear Features"
   ]
  },
  {
   "attachments": {},
   "cell_type": "markdown",
   "metadata": {},
   "source": [
    "* Create correlation matrix to look for outliers.\n",
    "* Define two functions that will help us find the pairs of features with the highest correlation values.\n",
    "* Feature engineer and drop redundant features to eliminate collineararity from our dataset."
   ]
  },
  {
   "cell_type": "code",
   "execution_count": 18,
   "metadata": {},
   "outputs": [],
   "source": [
    "# Create a mask for our correlation matrix.\n",
    "corr = train_df.corr()\n",
    "mask = np.triu(np.ones_like(corr, dtype=bool))"
   ]
  },
  {
   "cell_type": "code",
   "execution_count": 19,
   "metadata": {},
   "outputs": [
    {
     "data": {
      "text/plain": [
       "<Axes: >"
      ]
     },
     "execution_count": 19,
     "metadata": {},
     "output_type": "execute_result"
    },
    {
     "data": {
      "image/png": "[encoded data removed]",
      "text/plain": [
       "<Figure size 1100x900 with 2 Axes>"
      ]
     },
     "metadata": {},
     "output_type": "display_data"
    }
   ],
   "source": [
    "# Set up matplotlib figure.\n",
    "f, ax = plt.subplots(figsize=(11, 9))\n",
    "# Generate a custom diverging colourmap.\n",
    "cmap = sns.diverging_palette(230, 20, as_cmap=True)\n",
    "# Draw the heatmap with the mask and correct the aspect ratio.\n",
    "sns.heatmap(corr, mask=mask, cmap=cmap, vmax=.3, center=0, square=True, linewidth=.5, cbar_kws={'shrink': .5})"
   ]
  },
  {
   "cell_type": "code",
   "execution_count": 20,
   "metadata": {},
   "outputs": [
    {
     "data": {
      "text/plain": [
       "count    177070.0\n",
       "mean          0.0\n",
       "std           0.0\n",
       "min           0.0\n",
       "25%           0.0\n",
       "50%           0.0\n",
       "75%           0.0\n",
       "max           0.0\n",
       "Name: category_indonesian, dtype: float64"
      ]
     },
     "execution_count": 20,
     "metadata": {},
     "output_type": "execute_result"
    }
   ],
   "source": [
    "# Upon observation of the correaltion matrix we can see that category_indonesian \n",
    "# has all 0 values and so we will drop it.\n",
    "train_df['category_indonesian'].describe()"
   ]
  },
  {
   "cell_type": "code",
   "execution_count": 21,
   "metadata": {},
   "outputs": [],
   "source": [
    "# Define a function to get redunant pairs of features from the dataset.\n",
    "def get_redundant_pairs(df):\n",
    "    \"\"\"Get diagonal and lower triangular pairs of correlation matrix\"\"\"\n",
    "    pairs_to_drop = set()\n",
    "    cols = df. columns\n",
    "    for i in range(0, df.shape[1]): \n",
    "        for j in range(0, i+1):\n",
    "            pairs_to_drop.add((cols[i], cols[j])) \n",
    "    return pairs_to_drop"
   ]
  },
  {
   "cell_type": "code",
   "execution_count": 22,
   "metadata": {},
   "outputs": [],
   "source": [
    "# Define a fucntion that returns the highest correlation values of pairs of features in the dataset.\n",
    "def get_top_abs_correlations(df, n=5):\n",
    "    \"\"\"Sort correlations in the descending order and return n highest results\"\"\"\n",
    "    au_corr = df.corr().abs().unstack()\n",
    "    labels_to_drop = get_redundant_pairs(df)\n",
    "    au_corr = au_corr.drop(labels=labels_to_drop).sort_values(ascending=False)\n",
    "    return au_corr[0:n]"
   ]
  },
  {
   "cell_type": "code",
   "execution_count": 23,
   "metadata": {},
   "outputs": [
    {
     "name": "stdout",
     "output_type": "stream",
     "text": [
      "Top Absolute Correlations\n",
      "total_onshift_dashers                         total_busy_dashers             0.941741\n",
      "                                              total_outstanding_orders       0.934639\n",
      "total_busy_dashers                            total_outstanding_orders       0.931295\n",
      "estimated_store_to_consumer_driving_duration  estimated_non_prep_duration    0.923086\n",
      "estimated_order_place_duration                order_protocol_1.0             0.897645\n",
      "total_items                                   num_distinct_items             0.758146\n",
      "subtotal                                      num_distinct_items             0.682890\n",
      "total_items                                   subtotal                       0.557175\n",
      "min_item_price                                max_item_price                 0.541241\n",
      "subtotal                                      max_item_price                 0.507947\n",
      "order_protocol_4.0                            category_fast                  0.489946\n",
      "num_distinct_items                            min_item_price                 0.446733\n",
      "market_id_2.0                                 market_id_4.0                  0.402421\n",
      "total_items                                   min_item_price                 0.389277\n",
      "order_protocol_1.0                            order_protocol_3.0             0.373581\n",
      "estimated_order_place_duration                order_protocol_3.0             0.364170\n",
      "                                              estimated_non_prep_duration    0.363297\n",
      "order_protocol_1.0                            order_protocol_5.0             0.342345\n",
      "market_id_1.0                                 market_id_2.0                  0.334580\n",
      "estimated_order_place_duration                order_protocol_5.0             0.333291\n",
      "dtype: float64\n"
     ]
    }
   ],
   "source": [
    "print('Top Absolute Correlations')\n",
    "print(get_top_abs_correlations(train_df, 20))"
   ]
  },
  {
   "attachments": {},
   "cell_type": "markdown",
   "metadata": {},
   "source": [
    "* Both total_onshift_dashers and total_busy_dashers appear to be reduntant as they have high correlation values and as they are represented by the ratio_busy_dashers feature that we created earlier so we can drop these two features.\n",
    "* estimated_store_to_consumer_driving_duration and estimated_non_prep_duration are highly correlated with each other and as we created estimated_non_prep_duration we can drop that feature as well.\n",
    "* market_id appears to show consistently significant correlations as well so we will not concat it to our dataset."
   ]
  },
  {
   "cell_type": "code",
   "execution_count": 24,
   "metadata": {},
   "outputs": [],
   "source": [
    "# Drop unnecessary features from the training dataset.\n",
    "train_df = df.drop(columns = ['created_at', 'market_id', 'store_id', 'order_protocol', 'store_primary_category', \n",
    "                              'actual_delivery_time', 'nan_free_store_primary_category'])"
   ]
  },
  {
   "cell_type": "code",
   "execution_count": 25,
   "metadata": {},
   "outputs": [],
   "source": [
    "# Don't concat market id.\n",
    "train_df = pd.concat([train_df, order_protocol_dummies, store_primary_category_dummies], axis=1)"
   ]
  },
  {
   "cell_type": "code",
   "execution_count": 26,
   "metadata": {},
   "outputs": [
    {
     "data": {
      "text/html": [
       "<div>\n",
       "<style scoped>\n",
       "    .dataframe tbody tr th:only-of-type {\n",
       "        vertical-align: middle;\n",
       "    }\n",
       "\n",
       "    .dataframe tbody tr th {\n",
       "        vertical-align: top;\n",
       "    }\n",
       "\n",
       "    .dataframe thead th {\n",
       "        text-align: right;\n",
       "    }\n",
       "</style>\n",
       "<table border=\"1\" class=\"dataframe\">\n",
       "  <thead>\n",
       "    <tr style=\"text-align: right;\">\n",
       "      <th></th>\n",
       "      <th>total_items</th>\n",
       "      <th>subtotal</th>\n",
       "      <th>num_distinct_items</th>\n",
       "      <th>min_item_price</th>\n",
       "      <th>max_item_price</th>\n",
       "      <th>total_outstanding_orders</th>\n",
       "      <th>estimated_order_place_duration</th>\n",
       "      <th>estimated_store_to_consumer_driving_duration</th>\n",
       "      <th>total_duration</th>\n",
       "      <th>ratio_busy_dashers</th>\n",
       "      <th>...</th>\n",
       "      <th>category_southern</th>\n",
       "      <th>category_spanish</th>\n",
       "      <th>category_steak</th>\n",
       "      <th>category_sushi</th>\n",
       "      <th>category_tapas</th>\n",
       "      <th>category_thai</th>\n",
       "      <th>category_turkish</th>\n",
       "      <th>category_vegan</th>\n",
       "      <th>category_vegetarian</th>\n",
       "      <th>category_vietnamese</th>\n",
       "    </tr>\n",
       "  </thead>\n",
       "  <tbody>\n",
       "    <tr>\n",
       "      <th>0</th>\n",
       "      <td>4.0</td>\n",
       "      <td>3441.0</td>\n",
       "      <td>4.0</td>\n",
       "      <td>557.0</td>\n",
       "      <td>1239.0</td>\n",
       "      <td>21.0</td>\n",
       "      <td>446.0</td>\n",
       "      <td>861.0</td>\n",
       "      <td>3779.0</td>\n",
       "      <td>0.424242</td>\n",
       "      <td>...</td>\n",
       "      <td>0.0</td>\n",
       "      <td>0.0</td>\n",
       "      <td>0.0</td>\n",
       "      <td>0.0</td>\n",
       "      <td>0.0</td>\n",
       "      <td>0.0</td>\n",
       "      <td>0.0</td>\n",
       "      <td>0.0</td>\n",
       "      <td>0.0</td>\n",
       "      <td>0.0</td>\n",
       "    </tr>\n",
       "    <tr>\n",
       "      <th>1</th>\n",
       "      <td>1.0</td>\n",
       "      <td>1900.0</td>\n",
       "      <td>1.0</td>\n",
       "      <td>1400.0</td>\n",
       "      <td>1400.0</td>\n",
       "      <td>2.0</td>\n",
       "      <td>446.0</td>\n",
       "      <td>690.0</td>\n",
       "      <td>4024.0</td>\n",
       "      <td>2.000000</td>\n",
       "      <td>...</td>\n",
       "      <td>0.0</td>\n",
       "      <td>0.0</td>\n",
       "      <td>0.0</td>\n",
       "      <td>0.0</td>\n",
       "      <td>0.0</td>\n",
       "      <td>0.0</td>\n",
       "      <td>0.0</td>\n",
       "      <td>0.0</td>\n",
       "      <td>0.0</td>\n",
       "      <td>0.0</td>\n",
       "    </tr>\n",
       "    <tr>\n",
       "      <th>2</th>\n",
       "      <td>1.0</td>\n",
       "      <td>1900.0</td>\n",
       "      <td>1.0</td>\n",
       "      <td>1900.0</td>\n",
       "      <td>1900.0</td>\n",
       "      <td>0.0</td>\n",
       "      <td>446.0</td>\n",
       "      <td>690.0</td>\n",
       "      <td>1781.0</td>\n",
       "      <td>0.000000</td>\n",
       "      <td>...</td>\n",
       "      <td>0.0</td>\n",
       "      <td>0.0</td>\n",
       "      <td>0.0</td>\n",
       "      <td>0.0</td>\n",
       "      <td>0.0</td>\n",
       "      <td>0.0</td>\n",
       "      <td>0.0</td>\n",
       "      <td>0.0</td>\n",
       "      <td>0.0</td>\n",
       "      <td>0.0</td>\n",
       "    </tr>\n",
       "    <tr>\n",
       "      <th>3</th>\n",
       "      <td>6.0</td>\n",
       "      <td>6900.0</td>\n",
       "      <td>5.0</td>\n",
       "      <td>600.0</td>\n",
       "      <td>1800.0</td>\n",
       "      <td>2.0</td>\n",
       "      <td>446.0</td>\n",
       "      <td>289.0</td>\n",
       "      <td>3075.0</td>\n",
       "      <td>1.000000</td>\n",
       "      <td>...</td>\n",
       "      <td>0.0</td>\n",
       "      <td>0.0</td>\n",
       "      <td>0.0</td>\n",
       "      <td>0.0</td>\n",
       "      <td>0.0</td>\n",
       "      <td>0.0</td>\n",
       "      <td>0.0</td>\n",
       "      <td>0.0</td>\n",
       "      <td>0.0</td>\n",
       "      <td>0.0</td>\n",
       "    </tr>\n",
       "    <tr>\n",
       "      <th>4</th>\n",
       "      <td>3.0</td>\n",
       "      <td>3900.0</td>\n",
       "      <td>3.0</td>\n",
       "      <td>1100.0</td>\n",
       "      <td>1600.0</td>\n",
       "      <td>9.0</td>\n",
       "      <td>446.0</td>\n",
       "      <td>650.0</td>\n",
       "      <td>2390.0</td>\n",
       "      <td>1.000000</td>\n",
       "      <td>...</td>\n",
       "      <td>0.0</td>\n",
       "      <td>0.0</td>\n",
       "      <td>0.0</td>\n",
       "      <td>0.0</td>\n",
       "      <td>0.0</td>\n",
       "      <td>0.0</td>\n",
       "      <td>0.0</td>\n",
       "      <td>0.0</td>\n",
       "      <td>0.0</td>\n",
       "      <td>0.0</td>\n",
       "    </tr>\n",
       "  </tbody>\n",
       "</table>\n",
       "<p>5 rows × 90 columns</p>\n",
       "</div>"
      ],
      "text/plain": [
       "   total_items  subtotal  num_distinct_items  min_item_price  max_item_price  \\\n",
       "0          4.0    3441.0                 4.0           557.0          1239.0   \n",
       "1          1.0    1900.0                 1.0          1400.0          1400.0   \n",
       "2          1.0    1900.0                 1.0          1900.0          1900.0   \n",
       "3          6.0    6900.0                 5.0           600.0          1800.0   \n",
       "4          3.0    3900.0                 3.0          1100.0          1600.0   \n",
       "\n",
       "   total_outstanding_orders  estimated_order_place_duration  \\\n",
       "0                      21.0                           446.0   \n",
       "1                       2.0                           446.0   \n",
       "2                       0.0                           446.0   \n",
       "3                       2.0                           446.0   \n",
       "4                       9.0                           446.0   \n",
       "\n",
       "   estimated_store_to_consumer_driving_duration  total_duration  \\\n",
       "0                                         861.0          3779.0   \n",
       "1                                         690.0          4024.0   \n",
       "2                                         690.0          1781.0   \n",
       "3                                         289.0          3075.0   \n",
       "4                                         650.0          2390.0   \n",
       "\n",
       "   ratio_busy_dashers  ...  category_southern  category_spanish  \\\n",
       "0            0.424242  ...                0.0               0.0   \n",
       "1            2.000000  ...                0.0               0.0   \n",
       "2            0.000000  ...                0.0               0.0   \n",
       "3            1.000000  ...                0.0               0.0   \n",
       "4            1.000000  ...                0.0               0.0   \n",
       "\n",
       "   category_steak  category_sushi  category_tapas  category_thai  \\\n",
       "0             0.0             0.0             0.0            0.0   \n",
       "1             0.0             0.0             0.0            0.0   \n",
       "2             0.0             0.0             0.0            0.0   \n",
       "3             0.0             0.0             0.0            0.0   \n",
       "4             0.0             0.0             0.0            0.0   \n",
       "\n",
       "   category_turkish  category_vegan  category_vegetarian  category_vietnamese  \n",
       "0               0.0             0.0                  0.0                  0.0  \n",
       "1               0.0             0.0                  0.0                  0.0  \n",
       "2               0.0             0.0                  0.0                  0.0  \n",
       "3               0.0             0.0                  0.0                  0.0  \n",
       "4               0.0             0.0                  0.0                  0.0  \n",
       "\n",
       "[5 rows x 90 columns]"
      ]
     },
     "execution_count": 26,
     "metadata": {},
     "output_type": "execute_result"
    }
   ],
   "source": [
    "# Drop highly correlated features.\n",
    "train_df = train_df.drop(columns=['total_onshift_dashers', 'total_busy_dashers',\n",
    "                                  'category_indonesian', \n",
    "                                  'estimated_non_prep_duration'])\n",
    "\n",
    "# Align dtype over dataset.\n",
    "train_df = train_df.astype(\"float32\")\n",
    "\n",
    "# Replace inf values with nan to drop all nans.\n",
    "train_df.replace([np.inf, -np.inf], np.nan, inplace=True)\n",
    "train_df.dropna(inplace=True)\n",
    "\n",
    "train_df.head()"
   ]
  },
  {
   "cell_type": "code",
   "execution_count": 27,
   "metadata": {},
   "outputs": [
    {
     "name": "stdout",
     "output_type": "stream",
     "text": [
      "Top Absolute Correlations\n",
      "estimated_order_place_duration  order_protocol_1.0    0.897645\n",
      "total_items                     num_distinct_items    0.758146\n",
      "subtotal                        num_distinct_items    0.682890\n",
      "total_items                     subtotal              0.557175\n",
      "min_item_price                  max_item_price        0.541241\n",
      "subtotal                        max_item_price        0.507947\n",
      "order_protocol_4.0              category_fast         0.489946\n",
      "num_distinct_items              min_item_price        0.446733\n",
      "total_items                     min_item_price        0.389277\n",
      "order_protocol_1.0              order_protocol_3.0    0.373581\n",
      "estimated_order_place_duration  order_protocol_3.0    0.364170\n",
      "order_protocol_1.0              order_protocol_5.0    0.342345\n",
      "estimated_order_place_duration  order_protocol_5.0    0.333291\n",
      "order_protocol_3.0              order_protocol_5.0    0.332533\n",
      "order_protocol_1.0              order_protocol_2.0    0.226903\n",
      "estimated_order_place_duration  order_protocol_2.0    0.221215\n",
      "order_protocol_2.0              order_protocol_3.0    0.220400\n",
      "max_item_price                  order_protocol_4.0    0.215624\n",
      "order_protocol_1.0              order_protocol_4.0    0.202151\n",
      "order_protocol_2.0              order_protocol_5.0    0.201972\n",
      "dtype: float64\n"
     ]
    }
   ],
   "source": [
    "print('Top Absolute Correlations')\n",
    "print(get_top_abs_correlations(train_df, 20))"
   ]
  },
  {
   "attachments": {},
   "cell_type": "markdown",
   "metadata": {},
   "source": [
    "* order_protocol show consistently high correlation values so we will not concat it to our dataset."
   ]
  },
  {
   "cell_type": "code",
   "execution_count": 28,
   "metadata": {},
   "outputs": [],
   "source": [
    "# Drop unnecessary features from the training dataset.\n",
    "train_df = df.drop(columns = ['created_at', 'market_id', 'store_id', 'order_protocol', 'store_primary_category', \n",
    "                              'actual_delivery_time', 'nan_free_store_primary_category'])"
   ]
  },
  {
   "cell_type": "code",
   "execution_count": 29,
   "metadata": {},
   "outputs": [],
   "source": [
    "# Don't concat order protool.\n",
    "train_df = pd.concat([train_df, store_primary_category_dummies], axis=1)"
   ]
  },
  {
   "cell_type": "code",
   "execution_count": 30,
   "metadata": {},
   "outputs": [
    {
     "name": "stdout",
     "output_type": "stream",
     "text": [
      "Top Absolute Correlations\n",
      "total_items                                   num_distinct_items                0.758146\n",
      "subtotal                                      num_distinct_items                0.682890\n",
      "total_items                                   subtotal                          0.557175\n",
      "min_item_price                                max_item_price                    0.541241\n",
      "subtotal                                      max_item_price                    0.507947\n",
      "num_distinct_items                            min_item_price                    0.446733\n",
      "total_items                                   min_item_price                    0.389277\n",
      "estimated_store_to_consumer_driving_duration  total_duration                    0.188418\n",
      "subtotal                                      total_duration                    0.172312\n",
      "total_outstanding_orders                      estimated_order_place_duration    0.171049\n",
      "total_items                                   category_fast                     0.170988\n",
      "max_item_price                                category_italian                  0.169775\n",
      "                                              category_fast                     0.166169\n",
      "total_outstanding_orders                      total_duration                    0.157604\n",
      "max_item_price                                category_pizza                    0.157577\n",
      "estimated_order_place_duration                category_american                 0.150174\n",
      "min_item_price                                category_pizza                    0.149584\n",
      "subtotal                                      total_outstanding_orders          0.131115\n",
      "max_item_price                                total_outstanding_orders          0.129542\n",
      "min_item_price                                category_fast                     0.127969\n",
      "dtype: float64\n"
     ]
    }
   ],
   "source": [
    "# drop highly correlated features\n",
    "train_df = train_df.drop(columns=['total_onshift_dashers', 'total_busy_dashers',\n",
    "                                  'category_indonesian', \n",
    "                                  'estimated_non_prep_duration'])\n",
    "\n",
    "# align dtype over dataset\n",
    "train_df = train_df.astype(\"float32\")\n",
    "\n",
    "# replace inf values with nan to drop all nans\n",
    "train_df.replace([np.inf, -np.inf], np.nan, inplace=True)\n",
    "train_df.dropna(inplace=True)\n",
    "\n",
    "train_df.head()\n",
    "\n",
    "print('Top Absolute Correlations')\n",
    "print(get_top_abs_correlations(train_df, 20))"
   ]
  },
  {
   "attachments": {},
   "cell_type": "markdown",
   "metadata": {},
   "source": [
    "* total_items, num_distinct_items and subtotal are all highly correlated with each other. To deal with this we will create two new features by combining our correlated features together and then dropping num_distinct_items and subtotal."
   ]
  },
  {
   "cell_type": "code",
   "execution_count": 31,
   "metadata": {},
   "outputs": [
    {
     "name": "stdout",
     "output_type": "stream",
     "text": [
      "Top Absolute Correlations\n",
      "min_item_price                                avg_price_per_item                0.860580\n",
      "max_item_price                                avg_price_per_item                0.770382\n",
      "min_item_price                                max_item_price                    0.541241\n",
      "total_items                                   percent_distinct_item_of_total    0.445751\n",
      "                                              min_item_price                    0.389277\n",
      "                                              avg_price_per_item                0.310759\n",
      "percent_distinct_item_of_total                avg_price_per_item                0.226711\n",
      "category_pizza                                avg_price_per_item                0.225510\n",
      "estimated_store_to_consumer_driving_duration  total_duration                    0.188418\n",
      "max_item_price                                percent_distinct_item_of_total    0.178021\n",
      "category_fast                                 avg_price_per_item                0.175950\n",
      "min_item_price                                percent_distinct_item_of_total    0.173524\n",
      "total_outstanding_orders                      estimated_order_place_duration    0.171049\n",
      "total_items                                   category_fast                     0.170988\n",
      "max_item_price                                category_italian                  0.169775\n",
      "                                              category_fast                     0.166169\n",
      "category_italian                              avg_price_per_item                0.158193\n",
      "total_outstanding_orders                      total_duration                    0.157604\n",
      "max_item_price                                category_pizza                    0.157577\n",
      "category_fast                                 percent_distinct_item_of_total    0.153614\n",
      "dtype: float64\n"
     ]
    }
   ],
   "source": [
    "# New features.\n",
    "train_df['percent_distinct_item_of_total'] = train_df['num_distinct_items']/train_df['total_items']\n",
    "train_df['avg_price_per_item'] = train_df['subtotal']/train_df['total_items']\n",
    "# Drop redundant features.\n",
    "train_df.drop(columns=['num_distinct_items', 'subtotal'], inplace=True)\n",
    "print('Top Absolute Correlations')\n",
    "print(get_top_abs_correlations(train_df, 20))"
   ]
  },
  {
   "attachments": {},
   "cell_type": "markdown",
   "metadata": {},
   "source": [
    "* Now min_item_price and max_item_price are showing high correlation values with each other and also other features. To solve this problem we will combine these two features together into one feature and then drop them from the dataset."
   ]
  },
  {
   "cell_type": "code",
   "execution_count": 32,
   "metadata": {},
   "outputs": [
    {
     "name": "stdout",
     "output_type": "stream",
     "text": [
      "Top Absolute Correlations\n",
      "total_items                                   percent_distinct_item_of_total    0.445751\n",
      "                                              price_range_of_items              0.333304\n",
      "                                              avg_price_per_item                0.310759\n",
      "percent_distinct_item_of_total                avg_price_per_item                0.226711\n",
      "category_pizza                                avg_price_per_item                0.225510\n",
      "estimated_store_to_consumer_driving_duration  total_duration                    0.188418\n",
      "category_fast                                 avg_price_per_item                0.175950\n",
      "total_outstanding_orders                      estimated_order_place_duration    0.171049\n",
      "total_items                                   category_fast                     0.170988\n",
      "category_italian                              avg_price_per_item                0.158193\n",
      "total_outstanding_orders                      total_duration                    0.157604\n",
      "category_fast                                 percent_distinct_item_of_total    0.153614\n",
      "estimated_order_place_duration                category_american                 0.150174\n",
      "category_american                             category_pizza                    0.106998\n",
      "estimated_order_place_duration                category_fast                     0.106739\n",
      "category_american                             category_mexican                  0.106459\n",
      "total_duration                                price_range_of_items              0.104689\n",
      "category_burger                               avg_price_per_item                0.104437\n",
      "total_outstanding_orders                      price_range_of_items              0.100228\n",
      "category_mexican                              category_pizza                    0.097818\n",
      "dtype: float64\n"
     ]
    }
   ],
   "source": [
    "# New feature.\n",
    "train_df['price_range_of_items'] = train_df['max_item_price'] - train_df['min_item_price']\n",
    "# Drop redundant  features.\n",
    "train_df.drop(columns=['max_item_price', 'min_item_price'], inplace=True)\n",
    "print('Top Absolute Correlations')\n",
    "print(get_top_abs_correlations(train_df, 20))"
   ]
  },
  {
   "cell_type": "code",
   "execution_count": 33,
   "metadata": {},
   "outputs": [
    {
     "data": {
      "text/html": [
       "<div>\n",
       "<style scoped>\n",
       "    .dataframe tbody tr th:only-of-type {\n",
       "        vertical-align: middle;\n",
       "    }\n",
       "\n",
       "    .dataframe tbody tr th {\n",
       "        vertical-align: top;\n",
       "    }\n",
       "\n",
       "    .dataframe thead th {\n",
       "        text-align: right;\n",
       "    }\n",
       "</style>\n",
       "<table border=\"1\" class=\"dataframe\">\n",
       "  <thead>\n",
       "    <tr style=\"text-align: right;\">\n",
       "      <th></th>\n",
       "      <th>total_items</th>\n",
       "      <th>total_outstanding_orders</th>\n",
       "      <th>estimated_order_place_duration</th>\n",
       "      <th>estimated_store_to_consumer_driving_duration</th>\n",
       "      <th>total_duration</th>\n",
       "      <th>ratio_busy_dashers</th>\n",
       "      <th>category_afghan</th>\n",
       "      <th>category_african</th>\n",
       "      <th>category_alcohol</th>\n",
       "      <th>category_alcohol-plus-food</th>\n",
       "      <th>...</th>\n",
       "      <th>category_sushi</th>\n",
       "      <th>category_tapas</th>\n",
       "      <th>category_thai</th>\n",
       "      <th>category_turkish</th>\n",
       "      <th>category_vegan</th>\n",
       "      <th>category_vegetarian</th>\n",
       "      <th>category_vietnamese</th>\n",
       "      <th>percent_distinct_item_of_total</th>\n",
       "      <th>avg_price_per_item</th>\n",
       "      <th>price_range_of_items</th>\n",
       "    </tr>\n",
       "  </thead>\n",
       "  <tbody>\n",
       "    <tr>\n",
       "      <th>0</th>\n",
       "      <td>4.0</td>\n",
       "      <td>21.0</td>\n",
       "      <td>446.0</td>\n",
       "      <td>861.0</td>\n",
       "      <td>3779.0</td>\n",
       "      <td>0.424242</td>\n",
       "      <td>0.0</td>\n",
       "      <td>0.0</td>\n",
       "      <td>0.0</td>\n",
       "      <td>0.0</td>\n",
       "      <td>...</td>\n",
       "      <td>0.0</td>\n",
       "      <td>0.0</td>\n",
       "      <td>0.0</td>\n",
       "      <td>0.0</td>\n",
       "      <td>0.0</td>\n",
       "      <td>0.0</td>\n",
       "      <td>0.0</td>\n",
       "      <td>1.000000</td>\n",
       "      <td>860.250000</td>\n",
       "      <td>682.0</td>\n",
       "    </tr>\n",
       "    <tr>\n",
       "      <th>1</th>\n",
       "      <td>1.0</td>\n",
       "      <td>2.0</td>\n",
       "      <td>446.0</td>\n",
       "      <td>690.0</td>\n",
       "      <td>4024.0</td>\n",
       "      <td>2.000000</td>\n",
       "      <td>0.0</td>\n",
       "      <td>0.0</td>\n",
       "      <td>0.0</td>\n",
       "      <td>0.0</td>\n",
       "      <td>...</td>\n",
       "      <td>0.0</td>\n",
       "      <td>0.0</td>\n",
       "      <td>0.0</td>\n",
       "      <td>0.0</td>\n",
       "      <td>0.0</td>\n",
       "      <td>0.0</td>\n",
       "      <td>0.0</td>\n",
       "      <td>1.000000</td>\n",
       "      <td>1900.000000</td>\n",
       "      <td>0.0</td>\n",
       "    </tr>\n",
       "    <tr>\n",
       "      <th>2</th>\n",
       "      <td>1.0</td>\n",
       "      <td>0.0</td>\n",
       "      <td>446.0</td>\n",
       "      <td>690.0</td>\n",
       "      <td>1781.0</td>\n",
       "      <td>0.000000</td>\n",
       "      <td>0.0</td>\n",
       "      <td>0.0</td>\n",
       "      <td>0.0</td>\n",
       "      <td>0.0</td>\n",
       "      <td>...</td>\n",
       "      <td>0.0</td>\n",
       "      <td>0.0</td>\n",
       "      <td>0.0</td>\n",
       "      <td>0.0</td>\n",
       "      <td>0.0</td>\n",
       "      <td>0.0</td>\n",
       "      <td>0.0</td>\n",
       "      <td>1.000000</td>\n",
       "      <td>1900.000000</td>\n",
       "      <td>0.0</td>\n",
       "    </tr>\n",
       "    <tr>\n",
       "      <th>3</th>\n",
       "      <td>6.0</td>\n",
       "      <td>2.0</td>\n",
       "      <td>446.0</td>\n",
       "      <td>289.0</td>\n",
       "      <td>3075.0</td>\n",
       "      <td>1.000000</td>\n",
       "      <td>0.0</td>\n",
       "      <td>0.0</td>\n",
       "      <td>0.0</td>\n",
       "      <td>0.0</td>\n",
       "      <td>...</td>\n",
       "      <td>0.0</td>\n",
       "      <td>0.0</td>\n",
       "      <td>0.0</td>\n",
       "      <td>0.0</td>\n",
       "      <td>0.0</td>\n",
       "      <td>0.0</td>\n",
       "      <td>0.0</td>\n",
       "      <td>0.833333</td>\n",
       "      <td>1150.000000</td>\n",
       "      <td>1200.0</td>\n",
       "    </tr>\n",
       "    <tr>\n",
       "      <th>4</th>\n",
       "      <td>3.0</td>\n",
       "      <td>9.0</td>\n",
       "      <td>446.0</td>\n",
       "      <td>650.0</td>\n",
       "      <td>2390.0</td>\n",
       "      <td>1.000000</td>\n",
       "      <td>0.0</td>\n",
       "      <td>0.0</td>\n",
       "      <td>0.0</td>\n",
       "      <td>0.0</td>\n",
       "      <td>...</td>\n",
       "      <td>0.0</td>\n",
       "      <td>0.0</td>\n",
       "      <td>0.0</td>\n",
       "      <td>0.0</td>\n",
       "      <td>0.0</td>\n",
       "      <td>0.0</td>\n",
       "      <td>0.0</td>\n",
       "      <td>1.000000</td>\n",
       "      <td>1300.000000</td>\n",
       "      <td>500.0</td>\n",
       "    </tr>\n",
       "    <tr>\n",
       "      <th>...</th>\n",
       "      <td>...</td>\n",
       "      <td>...</td>\n",
       "      <td>...</td>\n",
       "      <td>...</td>\n",
       "      <td>...</td>\n",
       "      <td>...</td>\n",
       "      <td>...</td>\n",
       "      <td>...</td>\n",
       "      <td>...</td>\n",
       "      <td>...</td>\n",
       "      <td>...</td>\n",
       "      <td>...</td>\n",
       "      <td>...</td>\n",
       "      <td>...</td>\n",
       "      <td>...</td>\n",
       "      <td>...</td>\n",
       "      <td>...</td>\n",
       "      <td>...</td>\n",
       "      <td>...</td>\n",
       "      <td>...</td>\n",
       "      <td>...</td>\n",
       "    </tr>\n",
       "    <tr>\n",
       "      <th>197423</th>\n",
       "      <td>3.0</td>\n",
       "      <td>23.0</td>\n",
       "      <td>251.0</td>\n",
       "      <td>331.0</td>\n",
       "      <td>3907.0</td>\n",
       "      <td>1.000000</td>\n",
       "      <td>0.0</td>\n",
       "      <td>0.0</td>\n",
       "      <td>0.0</td>\n",
       "      <td>0.0</td>\n",
       "      <td>...</td>\n",
       "      <td>0.0</td>\n",
       "      <td>0.0</td>\n",
       "      <td>0.0</td>\n",
       "      <td>0.0</td>\n",
       "      <td>0.0</td>\n",
       "      <td>0.0</td>\n",
       "      <td>0.0</td>\n",
       "      <td>1.000000</td>\n",
       "      <td>463.000000</td>\n",
       "      <td>304.0</td>\n",
       "    </tr>\n",
       "    <tr>\n",
       "      <th>197424</th>\n",
       "      <td>6.0</td>\n",
       "      <td>14.0</td>\n",
       "      <td>251.0</td>\n",
       "      <td>915.0</td>\n",
       "      <td>3383.0</td>\n",
       "      <td>0.916667</td>\n",
       "      <td>0.0</td>\n",
       "      <td>0.0</td>\n",
       "      <td>0.0</td>\n",
       "      <td>0.0</td>\n",
       "      <td>...</td>\n",
       "      <td>0.0</td>\n",
       "      <td>0.0</td>\n",
       "      <td>0.0</td>\n",
       "      <td>0.0</td>\n",
       "      <td>0.0</td>\n",
       "      <td>0.0</td>\n",
       "      <td>0.0</td>\n",
       "      <td>0.666667</td>\n",
       "      <td>501.666656</td>\n",
       "      <td>420.0</td>\n",
       "    </tr>\n",
       "    <tr>\n",
       "      <th>197425</th>\n",
       "      <td>5.0</td>\n",
       "      <td>40.0</td>\n",
       "      <td>251.0</td>\n",
       "      <td>795.0</td>\n",
       "      <td>3008.0</td>\n",
       "      <td>1.051282</td>\n",
       "      <td>0.0</td>\n",
       "      <td>0.0</td>\n",
       "      <td>0.0</td>\n",
       "      <td>0.0</td>\n",
       "      <td>...</td>\n",
       "      <td>0.0</td>\n",
       "      <td>0.0</td>\n",
       "      <td>0.0</td>\n",
       "      <td>0.0</td>\n",
       "      <td>0.0</td>\n",
       "      <td>0.0</td>\n",
       "      <td>0.0</td>\n",
       "      <td>0.600000</td>\n",
       "      <td>367.200012</td>\n",
       "      <td>99.0</td>\n",
       "    </tr>\n",
       "    <tr>\n",
       "      <th>197426</th>\n",
       "      <td>1.0</td>\n",
       "      <td>12.0</td>\n",
       "      <td>446.0</td>\n",
       "      <td>384.0</td>\n",
       "      <td>3907.0</td>\n",
       "      <td>1.000000</td>\n",
       "      <td>0.0</td>\n",
       "      <td>0.0</td>\n",
       "      <td>0.0</td>\n",
       "      <td>0.0</td>\n",
       "      <td>...</td>\n",
       "      <td>0.0</td>\n",
       "      <td>0.0</td>\n",
       "      <td>0.0</td>\n",
       "      <td>0.0</td>\n",
       "      <td>0.0</td>\n",
       "      <td>0.0</td>\n",
       "      <td>0.0</td>\n",
       "      <td>1.000000</td>\n",
       "      <td>1175.000000</td>\n",
       "      <td>0.0</td>\n",
       "    </tr>\n",
       "    <tr>\n",
       "      <th>197427</th>\n",
       "      <td>4.0</td>\n",
       "      <td>23.0</td>\n",
       "      <td>446.0</td>\n",
       "      <td>134.0</td>\n",
       "      <td>2228.0</td>\n",
       "      <td>1.000000</td>\n",
       "      <td>0.0</td>\n",
       "      <td>0.0</td>\n",
       "      <td>0.0</td>\n",
       "      <td>0.0</td>\n",
       "      <td>...</td>\n",
       "      <td>0.0</td>\n",
       "      <td>0.0</td>\n",
       "      <td>0.0</td>\n",
       "      <td>0.0</td>\n",
       "      <td>0.0</td>\n",
       "      <td>0.0</td>\n",
       "      <td>0.0</td>\n",
       "      <td>1.000000</td>\n",
       "      <td>651.250000</td>\n",
       "      <td>325.0</td>\n",
       "    </tr>\n",
       "  </tbody>\n",
       "</table>\n",
       "<p>177070 rows × 82 columns</p>\n",
       "</div>"
      ],
      "text/plain": [
       "        total_items  total_outstanding_orders  estimated_order_place_duration  \\\n",
       "0               4.0                      21.0                           446.0   \n",
       "1               1.0                       2.0                           446.0   \n",
       "2               1.0                       0.0                           446.0   \n",
       "3               6.0                       2.0                           446.0   \n",
       "4               3.0                       9.0                           446.0   \n",
       "...             ...                       ...                             ...   \n",
       "197423          3.0                      23.0                           251.0   \n",
       "197424          6.0                      14.0                           251.0   \n",
       "197425          5.0                      40.0                           251.0   \n",
       "197426          1.0                      12.0                           446.0   \n",
       "197427          4.0                      23.0                           446.0   \n",
       "\n",
       "        estimated_store_to_consumer_driving_duration  total_duration  \\\n",
       "0                                              861.0          3779.0   \n",
       "1                                              690.0          4024.0   \n",
       "2                                              690.0          1781.0   \n",
       "3                                              289.0          3075.0   \n",
       "4                                              650.0          2390.0   \n",
       "...                                              ...             ...   \n",
       "197423                                         331.0          3907.0   \n",
       "197424                                         915.0          3383.0   \n",
       "197425                                         795.0          3008.0   \n",
       "197426                                         384.0          3907.0   \n",
       "197427                                         134.0          2228.0   \n",
       "\n",
       "        ratio_busy_dashers  category_afghan  category_african  \\\n",
       "0                 0.424242              0.0               0.0   \n",
       "1                 2.000000              0.0               0.0   \n",
       "2                 0.000000              0.0               0.0   \n",
       "3                 1.000000              0.0               0.0   \n",
       "4                 1.000000              0.0               0.0   \n",
       "...                    ...              ...               ...   \n",
       "197423            1.000000              0.0               0.0   \n",
       "197424            0.916667              0.0               0.0   \n",
       "197425            1.051282              0.0               0.0   \n",
       "197426            1.000000              0.0               0.0   \n",
       "197427            1.000000              0.0               0.0   \n",
       "\n",
       "        category_alcohol  category_alcohol-plus-food  ...  category_sushi  \\\n",
       "0                    0.0                         0.0  ...             0.0   \n",
       "1                    0.0                         0.0  ...             0.0   \n",
       "2                    0.0                         0.0  ...             0.0   \n",
       "3                    0.0                         0.0  ...             0.0   \n",
       "4                    0.0                         0.0  ...             0.0   \n",
       "...                  ...                         ...  ...             ...   \n",
       "197423               0.0                         0.0  ...             0.0   \n",
       "197424               0.0                         0.0  ...             0.0   \n",
       "197425               0.0                         0.0  ...             0.0   \n",
       "197426               0.0                         0.0  ...             0.0   \n",
       "197427               0.0                         0.0  ...             0.0   \n",
       "\n",
       "        category_tapas  category_thai  category_turkish  category_vegan  \\\n",
       "0                  0.0            0.0               0.0             0.0   \n",
       "1                  0.0            0.0               0.0             0.0   \n",
       "2                  0.0            0.0               0.0             0.0   \n",
       "3                  0.0            0.0               0.0             0.0   \n",
       "4                  0.0            0.0               0.0             0.0   \n",
       "...                ...            ...               ...             ...   \n",
       "197423             0.0            0.0               0.0             0.0   \n",
       "197424             0.0            0.0               0.0             0.0   \n",
       "197425             0.0            0.0               0.0             0.0   \n",
       "197426             0.0            0.0               0.0             0.0   \n",
       "197427             0.0            0.0               0.0             0.0   \n",
       "\n",
       "        category_vegetarian  category_vietnamese  \\\n",
       "0                       0.0                  0.0   \n",
       "1                       0.0                  0.0   \n",
       "2                       0.0                  0.0   \n",
       "3                       0.0                  0.0   \n",
       "4                       0.0                  0.0   \n",
       "...                     ...                  ...   \n",
       "197423                  0.0                  0.0   \n",
       "197424                  0.0                  0.0   \n",
       "197425                  0.0                  0.0   \n",
       "197426                  0.0                  0.0   \n",
       "197427                  0.0                  0.0   \n",
       "\n",
       "        percent_distinct_item_of_total  avg_price_per_item  \\\n",
       "0                             1.000000          860.250000   \n",
       "1                             1.000000         1900.000000   \n",
       "2                             1.000000         1900.000000   \n",
       "3                             0.833333         1150.000000   \n",
       "4                             1.000000         1300.000000   \n",
       "...                                ...                 ...   \n",
       "197423                        1.000000          463.000000   \n",
       "197424                        0.666667          501.666656   \n",
       "197425                        0.600000          367.200012   \n",
       "197426                        1.000000         1175.000000   \n",
       "197427                        1.000000          651.250000   \n",
       "\n",
       "        price_range_of_items  \n",
       "0                      682.0  \n",
       "1                        0.0  \n",
       "2                        0.0  \n",
       "3                     1200.0  \n",
       "4                      500.0  \n",
       "...                      ...  \n",
       "197423                 304.0  \n",
       "197424                 420.0  \n",
       "197425                  99.0  \n",
       "197426                   0.0  \n",
       "197427                 325.0  \n",
       "\n",
       "[177070 rows x 82 columns]"
      ]
     },
     "execution_count": 33,
     "metadata": {},
     "output_type": "execute_result"
    }
   ],
   "source": [
    "train_df"
   ]
  },
  {
   "attachments": {},
   "cell_type": "markdown",
   "metadata": {},
   "source": [
    "The correlations between our features appear to have dropped significantly due to dropping redundant features and also feature engineering and we have reduced our data frame to 82 features."
   ]
  },
  {
   "attachments": {},
   "cell_type": "markdown",
   "metadata": {},
   "source": [
    "# Reducing Multicolinearity"
   ]
  },
  {
   "attachments": {},
   "cell_type": "markdown",
   "metadata": {},
   "source": [
    "* Define a function that computes the vif score for each of the features and sorts them in order.\n",
    "* Use a while loop to drop all features with a vif score greater than 20."
   ]
  },
  {
   "cell_type": "code",
   "execution_count": 34,
   "metadata": {},
   "outputs": [],
   "source": [
    "from statsmodels.stats.outliers_influence import variance_inflation_factor"
   ]
  },
  {
   "cell_type": "code",
   "execution_count": 35,
   "metadata": {},
   "outputs": [],
   "source": [
    "# Define a function to compute the vif score for each of the features and sort them in order.\n",
    "def compute_vif(features):\n",
    "    \"\"\"Compute VIF score using variance variance_inflation_factor() function\"\"\"\n",
    "    vif_data = pd.DataFrame()\n",
    "    vif_data['feature'] = features\n",
    "    vif_data['VIF'] = [variance_inflation_factor(train_df[features].values, i) for i in range(len(features))]\n",
    "    return vif_data.sort_values(by=['VIF']).reset_index(drop=True)"
   ]
  },
  {
   "cell_type": "code",
   "execution_count": 36,
   "metadata": {},
   "outputs": [
    {
     "data": {
      "text/html": [
       "<div>\n",
       "<style scoped>\n",
       "    .dataframe tbody tr th:only-of-type {\n",
       "        vertical-align: middle;\n",
       "    }\n",
       "\n",
       "    .dataframe tbody tr th {\n",
       "        vertical-align: top;\n",
       "    }\n",
       "\n",
       "    .dataframe thead th {\n",
       "        text-align: right;\n",
       "    }\n",
       "</style>\n",
       "<table border=\"1\" class=\"dataframe\">\n",
       "  <thead>\n",
       "    <tr style=\"text-align: right;\">\n",
       "      <th></th>\n",
       "      <th>feature</th>\n",
       "      <th>VIF</th>\n",
       "    </tr>\n",
       "  </thead>\n",
       "  <tbody>\n",
       "    <tr>\n",
       "      <th>0</th>\n",
       "      <td>category_alcohol-plus-food</td>\n",
       "      <td>1.000373</td>\n",
       "    </tr>\n",
       "    <tr>\n",
       "      <th>1</th>\n",
       "      <td>category_chocolate</td>\n",
       "      <td>1.000508</td>\n",
       "    </tr>\n",
       "    <tr>\n",
       "      <th>2</th>\n",
       "      <td>category_belgian</td>\n",
       "      <td>1.000771</td>\n",
       "    </tr>\n",
       "    <tr>\n",
       "      <th>3</th>\n",
       "      <td>category_russian</td>\n",
       "      <td>1.003245</td>\n",
       "    </tr>\n",
       "    <tr>\n",
       "      <th>4</th>\n",
       "      <td>category_african</td>\n",
       "      <td>1.003825</td>\n",
       "    </tr>\n",
       "    <tr>\n",
       "      <th>...</th>\n",
       "      <td>...</td>\n",
       "      <td>...</td>\n",
       "    </tr>\n",
       "    <tr>\n",
       "      <th>76</th>\n",
       "      <td>ratio_busy_dashers</td>\n",
       "      <td>6.369577</td>\n",
       "    </tr>\n",
       "    <tr>\n",
       "      <th>77</th>\n",
       "      <td>category_american</td>\n",
       "      <td>7.033606</td>\n",
       "    </tr>\n",
       "    <tr>\n",
       "      <th>78</th>\n",
       "      <td>estimated_store_to_consumer_driving_duration</td>\n",
       "      <td>7.210893</td>\n",
       "    </tr>\n",
       "    <tr>\n",
       "      <th>79</th>\n",
       "      <td>estimated_order_place_duration</td>\n",
       "      <td>13.470942</td>\n",
       "    </tr>\n",
       "    <tr>\n",
       "      <th>80</th>\n",
       "      <td>percent_distinct_item_of_total</td>\n",
       "      <td>30.336609</td>\n",
       "    </tr>\n",
       "  </tbody>\n",
       "</table>\n",
       "<p>81 rows × 2 columns</p>\n",
       "</div>"
      ],
      "text/plain": [
       "                                         feature        VIF\n",
       "0                     category_alcohol-plus-food   1.000373\n",
       "1                             category_chocolate   1.000508\n",
       "2                               category_belgian   1.000771\n",
       "3                               category_russian   1.003245\n",
       "4                               category_african   1.003825\n",
       "..                                           ...        ...\n",
       "76                            ratio_busy_dashers   6.369577\n",
       "77                             category_american   7.033606\n",
       "78  estimated_store_to_consumer_driving_duration   7.210893\n",
       "79                estimated_order_place_duration  13.470942\n",
       "80                percent_distinct_item_of_total  30.336609\n",
       "\n",
       "[81 rows x 2 columns]"
      ]
     },
     "execution_count": 36,
     "metadata": {},
     "output_type": "execute_result"
    }
   ],
   "source": [
    "# Apply function to our dataset.\n",
    "features = train_df.drop(columns=['total_duration']).columns.to_list()\n",
    "vif_data =  compute_vif(features)\n",
    "vif_data"
   ]
  },
  {
   "attachments": {},
   "cell_type": "markdown",
   "metadata": {},
   "source": [
    "* We are going to drop all features that have a vif score greater than 20 in order to reduce multicollinearity in our dataset."
   ]
  },
  {
   "cell_type": "code",
   "execution_count": 37,
   "metadata": {},
   "outputs": [
    {
     "name": "stdout",
     "output_type": "stream",
     "text": [
      "I will remove percent_distinct_item_of_total\n"
     ]
    },
    {
     "data": {
      "text/html": [
       "<div>\n",
       "<style scoped>\n",
       "    .dataframe tbody tr th:only-of-type {\n",
       "        vertical-align: middle;\n",
       "    }\n",
       "\n",
       "    .dataframe tbody tr th {\n",
       "        vertical-align: top;\n",
       "    }\n",
       "\n",
       "    .dataframe thead th {\n",
       "        text-align: right;\n",
       "    }\n",
       "</style>\n",
       "<table border=\"1\" class=\"dataframe\">\n",
       "  <thead>\n",
       "    <tr style=\"text-align: right;\">\n",
       "      <th></th>\n",
       "      <th>feature</th>\n",
       "      <th>VIF</th>\n",
       "    </tr>\n",
       "  </thead>\n",
       "  <tbody>\n",
       "    <tr>\n",
       "      <th>0</th>\n",
       "      <td>category_alcohol-plus-food</td>\n",
       "      <td>1.000224</td>\n",
       "    </tr>\n",
       "    <tr>\n",
       "      <th>1</th>\n",
       "      <td>category_chocolate</td>\n",
       "      <td>1.000377</td>\n",
       "    </tr>\n",
       "    <tr>\n",
       "      <th>2</th>\n",
       "      <td>category_belgian</td>\n",
       "      <td>1.000472</td>\n",
       "    </tr>\n",
       "    <tr>\n",
       "      <th>3</th>\n",
       "      <td>category_russian</td>\n",
       "      <td>1.002037</td>\n",
       "    </tr>\n",
       "    <tr>\n",
       "      <th>4</th>\n",
       "      <td>category_gluten-free</td>\n",
       "      <td>1.002381</td>\n",
       "    </tr>\n",
       "    <tr>\n",
       "      <th>...</th>\n",
       "      <td>...</td>\n",
       "      <td>...</td>\n",
       "    </tr>\n",
       "    <tr>\n",
       "      <th>75</th>\n",
       "      <td>category_american</td>\n",
       "      <td>4.505930</td>\n",
       "    </tr>\n",
       "    <tr>\n",
       "      <th>76</th>\n",
       "      <td>avg_price_per_item</td>\n",
       "      <td>5.958989</td>\n",
       "    </tr>\n",
       "    <tr>\n",
       "      <th>77</th>\n",
       "      <td>ratio_busy_dashers</td>\n",
       "      <td>6.357856</td>\n",
       "    </tr>\n",
       "    <tr>\n",
       "      <th>78</th>\n",
       "      <td>estimated_store_to_consumer_driving_duration</td>\n",
       "      <td>7.192701</td>\n",
       "    </tr>\n",
       "    <tr>\n",
       "      <th>79</th>\n",
       "      <td>estimated_order_place_duration</td>\n",
       "      <td>13.338060</td>\n",
       "    </tr>\n",
       "  </tbody>\n",
       "</table>\n",
       "<p>80 rows × 2 columns</p>\n",
       "</div>"
      ],
      "text/plain": [
       "                                         feature        VIF\n",
       "0                     category_alcohol-plus-food   1.000224\n",
       "1                             category_chocolate   1.000377\n",
       "2                               category_belgian   1.000472\n",
       "3                               category_russian   1.002037\n",
       "4                           category_gluten-free   1.002381\n",
       "..                                           ...        ...\n",
       "75                             category_american   4.505930\n",
       "76                            avg_price_per_item   5.958989\n",
       "77                            ratio_busy_dashers   6.357856\n",
       "78  estimated_store_to_consumer_driving_duration   7.192701\n",
       "79                estimated_order_place_duration  13.338060\n",
       "\n",
       "[80 rows x 2 columns]"
      ]
     },
     "execution_count": 37,
     "metadata": {},
     "output_type": "execute_result"
    }
   ],
   "source": [
    "# Use a while loop to drop all features with a vif score greater than 20.\n",
    "multicollinearity = True\n",
    "\n",
    "while multicollinearity:\n",
    "    highest_vif_feature = vif_data['feature'].values.tolist()[-1]\n",
    "    print('I will remove', highest_vif_feature)\n",
    "    features.remove(highest_vif_feature)\n",
    "    vif_data = compute_vif(features)\n",
    "    multicollinearity = False if len(vif_data[vif_data.VIF > 20]) == 0 else True\n",
    "\n",
    "selected_features = vif_data['feature'].values.tolist()\n",
    "vif_data\n",
    "    "
   ]
  },
  {
   "attachments": {},
   "cell_type": "markdown",
   "metadata": {},
   "source": [
    "# Feature Selection"
   ]
  },
  {
   "attachments": {},
   "cell_type": "markdown",
   "metadata": {},
   "source": [
    "* Use RandomForestRegressor to find the Gini importance of all the features in the dataset.\n",
    "* Use PCA to find the optimum number of features to represent our dataset."
   ]
  },
  {
   "cell_type": "code",
   "execution_count": 38,
   "metadata": {},
   "outputs": [],
   "source": [
    "from sklearn.ensemble import RandomForestRegressor\n",
    "from sklearn.model_selection import train_test_split"
   ]
  },
  {
   "cell_type": "code",
   "execution_count": 39,
   "metadata": {},
   "outputs": [],
   "source": [
    "# Train-test split dataset.\n",
    "X = train_df[selected_features]\n",
    "y = train_df['total_duration']\n",
    "X_train, X_test, y_train, y_test = train_test_split(\n",
    "    X, y, test_size=0.2, random_state=42)"
   ]
  },
  {
   "cell_type": "code",
   "execution_count": 40,
   "metadata": {},
   "outputs": [
    {
     "data": {
      "image/png": "[encoded data removed]",
      "text/plain": [
       "<Figure size 1500x1200 with 1 Axes>"
      ]
     },
     "metadata": {},
     "output_type": "display_data"
    }
   ],
   "source": [
    "# Apply RandomForestRegressor and find Gini importance of our features. \n",
    "feature_names = [f\"feature P{i}\" for i in range((X.shape[1]))] # Save feature names.\n",
    "forest = RandomForestRegressor(random_state=42) # Define and fit RandomeForestRegressor.\n",
    "forest.fit(X_train, y_train)\n",
    "feats = {} # A dict to hold feature_name: feature_importance.\n",
    "for feature, importance in zip(X.columns, forest.feature_importances_): # Match features with their importance.\n",
    "    feats[feature] = importance # Add the name/value pair.\n",
    "importances = pd.DataFrame.from_dict(feats, orient='index').rename(columns={0: 'Gini-importance'}) # Sort freatures by their importance.\n",
    "importances.sort_values(by='Gini-importance').plot(kind='bar', rot=90, figsize=(15, 12)) # Plot feature importances.\n",
    "plt.show()"
   ]
  },
  {
   "cell_type": "code",
   "execution_count": 41,
   "metadata": {},
   "outputs": [
    {
     "name": "stderr",
     "output_type": "stream",
     "text": [
      "<ipython-input-41-e57f02a01352>:12: MatplotlibDeprecationWarning: Passing the emit parameter of set_xlim() positionally is deprecated since Matplotlib 3.6; the parameter will become keyword-only two minor releases later.\n",
      "  plt.xlim(0,81,1)\n"
     ]
    },
    {
     "data": {
      "image/png": "[encoded data removed]",
      "text/plain": [
       "<Figure size 640x480 with 1 Axes>"
      ]
     },
     "metadata": {},
     "output_type": "display_data"
    }
   ],
   "source": [
    "from sklearn.decomposition import PCA \n",
    "from sklearn.preprocessing import StandardScaler\n",
    "X_Train=X_train.values\n",
    "X_Train=np.asarray(X_Train)\n",
    "\n",
    "# Finding normalised array of X_Train.\n",
    "X_std=StandardScaler().fit_transform(X_Train)\n",
    "# Fit PCA to our dataset.\n",
    "pca = PCA().fit(X_std) \n",
    "# Generate a plot to show the cumulative explained variance of the principal components\n",
    "plt.plot(np.cumsum(pca.explained_variance_ratio_))\n",
    "plt.xlim(0,81,1)\n",
    "plt.xlabel('Number of components')\n",
    "plt.ylabel('Cumulative explained variance')\n",
    "plt.show ()"
   ]
  },
  {
   "cell_type": "markdown",
   "metadata": {},
   "source": [
    "# Scaling"
   ]
  },
  {
   "attachments": {},
   "cell_type": "markdown",
   "metadata": {},
   "source": [
    "* Define a function to apply different scalars to our data."
   ]
  },
  {
   "cell_type": "code",
   "execution_count": 42,
   "metadata": {},
   "outputs": [],
   "source": [
    "from sklearn.preprocessing import MinMaxScaler, StandardScaler"
   ]
  },
  {
   "cell_type": "code",
   "execution_count": 43,
   "metadata": {},
   "outputs": [],
   "source": [
    "# Define a scalar for X and y.\n",
    "def scale(scaler, X, y):\n",
    "    \"\"\"Apply the selected scaler to features and target variables\"\"\"\n",
    "    X_scaler = scaler\n",
    "    X_scaler.fit(X=X, y=y)\n",
    "    X_scaled = X_scaler.transform(X)\n",
    "    y_scaler = scaler\n",
    "    y_scaler.fit(y.values.reshape(-1, 1))\n",
    "    y_scaled = y_scaler.transform(y.values.reshape(-1, 1))\n",
    "    \n",
    "    return X_scaled, y_scaled, X_scaler, y_scaler"
   ]
  },
  {
   "cell_type": "code",
   "execution_count": 44,
   "metadata": {},
   "outputs": [],
   "source": [
    "# Example to test the function.\n",
    "X_scaled, y_scaled, X_scaler, Y_scaler = scale(MinMaxScaler(), X, y)\n",
    "\n",
    "# Train test slpit after scaling.\n",
    "X_train_scaled, X_test_scaled, y_train_scaled, y_test_scaled = train_test_split(\n",
    "X_scaled, y_scaled, test_size=0.2, random_state=42)"
   ]
  },
  {
   "cell_type": "code",
   "execution_count": 45,
   "metadata": {},
   "outputs": [],
   "source": [
    "from sklearn.metrics import mean_squared_error\n",
    "\n",
    "def rmse_with_inv_transform(scaler, y_test, y_pred_scaled, model_name):\n",
    "    \"\"\"Convert the scaled error to actual error\"\"\"\n",
    "    y_predict = scaler.inverse_transform(y_pred_scaled.reshape(-1, 1))\n",
    "    # Return RMSE with squared False.\n",
    "    rmse_error = mean_squared_error(y_test, y_predict[:,0], squared=False)\n",
    "    print(\"Error = \"'{}'.format(rmse_error)+\" in \" + model_name)\n",
    "    \n",
    "    return rmse_error, y_predict"
   ]
  },
  {
   "attachments": {},
   "cell_type": "markdown",
   "metadata": {},
   "source": [
    "# Model Building"
   ]
  },
  {
   "attachments": {},
   "cell_type": "markdown",
   "metadata": {},
   "source": [
    "* Find the optimum regression model, feature size and scalar by comparing the RMSE scores.\n",
    "* Feature engineer a new dependant variable to see if we can decrease the RMSE score.\n",
    "* Use the predicitons of our new dependant variable as an independant variable in a new regresion model that will the predict the total_duration."
   ]
  },
  {
   "attachments": {},
   "cell_type": "markdown",
   "metadata": {},
   "source": [
    "Apply 6 different regression algorithims:\n",
    "* Ridge Regression\n",
    "* Decision Tree Regressor\n",
    "* Random Forrest Regressor\n",
    "* XGBoost Regressor\n",
    "* LGM Regressor\n",
    "* MLP Regressor\n",
    "\n",
    "Select 4 different feature set sizes selected by Gini's importance:\n",
    "* Full feature set\n",
    "* 40 selected features \n",
    "* 20 selected features\n",
    "* 10 selected features\n",
    "\n",
    "Apply 3 different scalars:\n",
    "* Standard scalar\n",
    "* Min-Max scalar\n",
    "* No scalar"
   ]
  },
  {
   "cell_type": "code",
   "execution_count": 49,
   "metadata": {},
   "outputs": [],
   "source": [
    "from xgboost import XGBRegressor \n",
    "from lightgbm import LGBMRegressor \n",
    "from sklearn.neural_network import MLPRegressor \n",
    "from sklearn import tree \n",
    "from sklearn import svm \n",
    "from sklearn import neighbors \n",
    "from sklearn import linear_model"
   ]
  },
  {
   "cell_type": "code",
   "execution_count": 51,
   "metadata": {},
   "outputs": [],
   "source": [
    "# Create a generic function which can work with multiple machine learning models.\n",
    "def make_regression(X_train, y_train, X_test, y_test, model, model_name, verbose=True):\n",
    "    \"\"\"Apply selected regression model to data and measure error\"\"\" \n",
    "    model.fit(X_train,y_train)\n",
    "    y_predict=model.predict(X_train)\n",
    "    train_error = mean_squared_error(y_train, y_predict, squared=False)\n",
    "    y_predict=model.predict(X_test)\n",
    "    test_error = mean_squared_error(y_test, y_predict, squared=False)\n",
    "    if verbose:\n",
    "        print (\"Train error - \"'{}'.format(train_error)+\" in \" + model_name)\n",
    "        print(\"Test error\"'{}'.format(test_error)+\" in \" + model_name)\n",
    "    trained_model = model\n",
    "    return trained_model, y_predict, train_error, test_error"
   ]
  },
  {
   "cell_type": "code",
   "execution_count": 52,
   "metadata": {},
   "outputs": [],
   "source": [
    "# Create dictionaries for each of our parameters.\n",
    "pred_dict = {\n",
    "    \"regression_model\": [],\n",
    "    \"feature_set\": [],\n",
    "    \"scaler_name\": [],\n",
    "    \"RMSE\": [],\n",
    "}\n",
    "\n",
    "regression_models = {\n",
    "    \"Ridge\" : linear_model.Ridge(),\n",
    "    \"DecisionTree\" : tree.DecisionTreeRegressor(max_depth=6),\n",
    "    \"RandomForest\" : RandomForestRegressor(),\n",
    "    \"GBoost\": XGBRegressor(),\n",
    "    \"LGBM\": LGBMRegressor(),\n",
    "    \"MLP\": MLPRegressor(),\n",
    "}\n",
    "\n",
    "feature_sets = {\n",
    "    \"full dataset\": X.columns. to_list(),\n",
    "    \"selected_features_40\": importances. sort_values(by= 'Gini-importance')[-40:].index.tolist(),\n",
    "    \"selected_features_20\": importances.sort_values(by= 'Gini-importance')[-20:].index.tolist(),\n",
    "    \"selected_ _features_10\": importances.sort_values(by='Gini-importance')[-10:].index.tolist(),\n",
    "}\n",
    "\n",
    "scalers = {\n",
    "    \"Standard scaler\": StandardScaler(),\n",
    "    \"MinMax scaler\": MinMaxScaler(),\n",
    "    \"NotScale\": None,\n",
    "}"
   ]
  },
  {
   "cell_type": "code",
   "execution_count": 56,
   "metadata": {},
   "outputs": [
    {
     "name": "stdout",
     "output_type": "stream",
     "text": [
      "------scaled with Standard scaler------ included columns are full dataset\n",
      "\n",
      "Train error - 0.767963171005249 in Ridge\n",
      "Test error1.4719302654266357 in Ridge\n",
      "Error = 2053.69873046875 in Ridge\n",
      "Train error - 0.7653021361303404 in DecisionTree\n",
      "Test error1.4744739559914226 in DecisionTree\n",
      "Error = 2057.2476687088733 in DecisionTree\n",
      "Train error - 0.28666217119919196 in RandomForest\n",
      "Test error1.4672312183652763 in RandomForest\n",
      "Error = 2047.1422982076203 in RandomForest\n",
      "Train error - 0.6924042105674744 in GBoost\n",
      "Test error1.4594244956970215 in GBoost\n",
      "Error = 2036.2498779296875 in GBoost\n",
      "Train error - 0.7297768813103676 in LGBM\n",
      "Test error1.4574073174711764 in LGBM\n",
      "Error = 2033.4355809987908 in LGBM\n",
      "Train error - 0.7389032244682312 in MLP\n",
      "Test error1.4607653617858887 in MLP\n",
      "Error = 2038.12109375 in MLP\n",
      "------scaled with MinMax scaler------ included columns are full dataset\n",
      "\n",
      "Train error - 0.0032242187298834324 in Ridge\n",
      "Test error0.006179544143378735 in Ridge\n",
      "Error = 2053.962890625 in Ridge\n",
      "Train error - 0.0032125227278769104 in DecisionTree\n",
      "Test error0.006189426173817691 in DecisionTree\n",
      "Error = 2057.2476685732177 in DecisionTree\n",
      "Train error - 0.0011909521685118001 in RandomForest\n",
      "Test error0.006163104484222151 in RandomForest\n",
      "Error = 2048.498838770133 in RandomForest\n",
      "Train error - 0.002926490269601345 in GBoost\n",
      "Test error0.006123548839241266 in GBoost\n",
      "Error = 2035.351318359375 in GBoost\n",
      "Train error - 0.003061644497371428 in LGBM\n",
      "Test error0.006120837204104189 in LGBM\n",
      "Error = 2034.4499976619875 in LGBM\n",
      "Train error - 0.003496863879263401 in MLP\n",
      "Test error0.006330351810902357 in MLP\n",
      "Error = 2104.0888671875 in MLP\n",
      "------scaled with NotScale------ included columns are full dataset\n",
      "\n",
      "Train error - 1071.4970703125 in Ridge\n",
      "Test error2053.692626953125 in Ridge\n"
     ]
    },
    {
     "name": "stderr",
     "output_type": "stream",
     "text": [
      "/Users/kaaneyvaz/miniconda3/envs/mlp/lib/python3.8/site-packages/sklearn/linear_model/_ridge.py:216: LinAlgWarning: Ill-conditioned matrix (rcond=4.4253e-11): result may not be accurate.\n",
      "  return linalg.solve(A, Xy, assume_a=\"pos\", overwrite_a=True).T\n"
     ]
    },
    {
     "name": "stdout",
     "output_type": "stream",
     "text": [
      "Train error - 1067.7815291116704 in DecisionTree\n",
      "Test error2057.2476684096064 in DecisionTree\n",
      "Train error - 396.1697159906428 in RandomForest\n",
      "Test error2047.6414162500841 in RandomForest\n",
      "Train error - 968.2471313476562 in GBoost\n",
      "Test error2036.43212890625 in GBoost\n",
      "Train error - 1017.5549840201221 in LGBM\n",
      "Test error2034.461097275308 in LGBM\n",
      "Train error - 1054.5858154296875 in MLP\n",
      "Test error2047.3568115234375 in MLP\n",
      "------scaled with Standard scaler------ included columns are selected_features_40\n",
      "\n",
      "Train error - 0.7685800194740295 in Ridge\n",
      "Test error1.47214937210083 in Ridge\n",
      "Error = 2054.00439453125 in Ridge\n",
      "Train error - 0.7653050277966773 in DecisionTree\n",
      "Test error1.4739590156893994 in DecisionTree\n",
      "Error = 2056.5292024696128 in DecisionTree\n",
      "Train error - 0.28593693191637654 in RandomForest\n",
      "Test error1.4675824239891306 in RandomForest\n",
      "Error = 2047.6323149574548 in RandomForest\n",
      "Train error - 0.6926604509353638 in GBoost\n",
      "Test error1.4588536024093628 in GBoost\n",
      "Error = 2035.453369140625 in GBoost\n",
      "Train error - 0.7293252740702356 in LGBM\n",
      "Test error1.4582805119970572 in LGBM\n",
      "Error = 2034.6538984910121 in LGBM\n",
      "Train error - 0.738730788230896 in MLP\n",
      "Test error1.459949016571045 in MLP\n",
      "Error = 2036.98193359375 in MLP\n",
      "------scaled with MinMax scaler------ included columns are selected_features_40\n",
      "\n",
      "Train error - 0.0032268052455037832 in Ridge\n",
      "Test error0.006180490367114544 in Ridge\n",
      "Error = 2054.27734375 in Ridge\n",
      "Train error - 0.0032125348662042853 in DecisionTree\n",
      "Test error0.006187264599632644 in DecisionTree\n",
      "Error = 2056.5292023632996 in DecisionTree\n",
      "Train error - 0.0012029229266831817 in RandomForest\n",
      "Test error0.006165602503337745 in RandomForest\n",
      "Error = 2049.329132737028 in RandomForest\n",
      "Train error - 0.00290255481377244 in GBoost\n",
      "Test error0.006120339501649141 in GBoost\n",
      "Error = 2034.2847900390625 in GBoost\n",
      "Train error - 0.00306084205207971 in LGBM\n",
      "Test error0.0061230832382438045 in LGBM\n",
      "Error = 2035.196536738781 in LGBM\n",
      "Train error - 0.003832339309155941 in MLP\n",
      "Test error0.006535547785460949 in MLP\n",
      "Error = 2172.291748046875 in MLP\n",
      "------scaled with NotScale------ included columns are selected_features_40\n",
      "\n",
      "Train error - 1072.35498046875 in Ridge\n",
      "Test error2054.00439453125 in Ridge\n"
     ]
    },
    {
     "name": "stderr",
     "output_type": "stream",
     "text": [
      "/Users/kaaneyvaz/miniconda3/envs/mlp/lib/python3.8/site-packages/sklearn/linear_model/_ridge.py:216: LinAlgWarning: Ill-conditioned matrix (rcond=2.55922e-09): result may not be accurate.\n",
      "  return linalg.solve(A, Xy, assume_a=\"pos\", overwrite_a=True).T\n"
     ]
    },
    {
     "name": "stdout",
     "output_type": "stream",
     "text": [
      "Train error - 1067.785563647774 in DecisionTree\n",
      "Test error2056.529202224364 in DecisionTree\n",
      "Train error - 396.81476109112884 in RandomForest\n",
      "Test error2048.793061700262 in RandomForest\n",
      "Train error - 965.6858520507812 in GBoost\n",
      "Test error2035.7642822265625 in GBoost\n",
      "Train error - 1017.1430421117441 in LGBM\n",
      "Test error2034.8058530174258 in LGBM\n"
     ]
    },
    {
     "name": "stderr",
     "output_type": "stream",
     "text": [
      "/Users/kaaneyvaz/miniconda3/envs/mlp/lib/python3.8/site-packages/sklearn/neural_network/_multilayer_perceptron.py:684: ConvergenceWarning: Stochastic Optimizer: Maximum iterations (200) reached and the optimization hasn't converged yet.\n",
      "  warnings.warn(\n"
     ]
    },
    {
     "name": "stdout",
     "output_type": "stream",
     "text": [
      "Train error - 1059.757568359375 in MLP\n",
      "Test error2050.584716796875 in MLP\n",
      "------scaled with Standard scaler------ included columns are selected_features_20\n",
      "\n",
      "Train error - 0.770122230052948 in Ridge\n",
      "Test error1.4731249809265137 in Ridge\n",
      "Error = 2055.36572265625 in Ridge\n",
      "Train error - 0.7662722630951128 in DecisionTree\n",
      "Test error1.4725837048094073 in DecisionTree\n",
      "Error = 2054.610311207463 in DecisionTree\n",
      "Train error - 0.28350494171940377 in RandomForest\n",
      "Test error1.4685613983302512 in RandomForest\n",
      "Error = 2048.998220861293 in RandomForest\n",
      "Train error - 0.6905712485313416 in GBoost\n",
      "Test error1.4604161977767944 in GBoost\n",
      "Error = 2037.6336669921875 in GBoost\n",
      "Train error - 0.7301559207008418 in LGBM\n",
      "Test error1.4592620523768804 in LGBM\n",
      "Error = 2036.0233846729805 in LGBM\n",
      "Train error - 0.7417997717857361 in MLP\n",
      "Test error1.460108995437622 in MLP\n",
      "Error = 2037.205078125 in MLP\n",
      "------scaled with MinMax scaler------ included columns are selected_features_20\n",
      "\n",
      "Train error - 0.0032332856208086014 in Ridge\n",
      "Test error0.006184629164636135 in Ridge\n",
      "Error = 2055.653076171875 in Ridge\n",
      "Train error - 0.003216595047051022 in DecisionTree\n",
      "Test error0.006181491432464366 in DecisionTree\n",
      "Error = 2054.6103112689557 in DecisionTree\n",
      "Train error - 0.0011926278361763217 in RandomForest\n",
      "Test error0.006159399914607423 in RandomForest\n",
      "Error = 2047.267510023187 in RandomForest\n",
      "Train error - 0.0029194350354373455 in GBoost\n",
      "Test error0.006127054803073406 in GBoost\n",
      "Error = 2036.5164794921875 in GBoost\n",
      "Train error - 0.0030648551116047645 in LGBM\n",
      "Test error0.006124241486430222 in LGBM\n",
      "Error = 2035.581516471472 in LGBM\n",
      "Train error - 0.004140415228903294 in MLP\n",
      "Test error0.006700986530631781 in MLP\n",
      "Error = 2227.280517578125 in MLP\n",
      "------scaled with NotScale------ included columns are selected_features_20\n",
      "\n",
      "Train error - 1074.506591796875 in Ridge\n",
      "Test error2055.36572265625 in Ridge\n"
     ]
    },
    {
     "name": "stderr",
     "output_type": "stream",
     "text": [
      "/Users/kaaneyvaz/miniconda3/envs/mlp/lib/python3.8/site-packages/sklearn/linear_model/_ridge.py:216: LinAlgWarning: Ill-conditioned matrix (rcond=4.43857e-08): result may not be accurate.\n",
      "  return linalg.solve(A, Xy, assume_a=\"pos\", overwrite_a=True).T\n"
     ]
    },
    {
     "name": "stdout",
     "output_type": "stream",
     "text": [
      "Train error - 1069.1350906055598 in DecisionTree\n",
      "Test error2054.610311170708 in DecisionTree\n",
      "Train error - 397.61665803849627 in RandomForest\n",
      "Test error2048.749498414466 in RandomForest\n",
      "Train error - 966.1651000976562 in GBoost\n",
      "Test error2036.249267578125 in GBoost\n",
      "Train error - 1018.9600610110249 in LGBM\n",
      "Test error2035.9494403356318 in LGBM\n"
     ]
    },
    {
     "name": "stderr",
     "output_type": "stream",
     "text": [
      "/Users/kaaneyvaz/miniconda3/envs/mlp/lib/python3.8/site-packages/sklearn/neural_network/_multilayer_perceptron.py:684: ConvergenceWarning: Stochastic Optimizer: Maximum iterations (200) reached and the optimization hasn't converged yet.\n",
      "  warnings.warn(\n"
     ]
    },
    {
     "name": "stdout",
     "output_type": "stream",
     "text": [
      "Train error - 1062.031494140625 in MLP\n",
      "Test error2052.0595703125 in MLP\n",
      "------scaled with Standard scaler------ included columns are selected_ _features_10\n",
      "\n",
      "Train error - 0.7717142105102539 in Ridge\n",
      "Test error1.4739872217178345 in Ridge\n",
      "Error = 2056.568359375 in Ridge\n",
      "Train error - 0.7663420076820632 in DecisionTree\n",
      "Test error1.4725742906448305 in DecisionTree\n",
      "Error = 2054.5971761770547 in DecisionTree\n",
      "Train error - 0.2866093525006613 in RandomForest\n",
      "Test error1.4702464570554377 in RandomForest\n",
      "Error = 2051.349285279795 in RandomForest\n",
      "Train error - 0.6992177963256836 in GBoost\n",
      "Test error1.4623059034347534 in GBoost\n",
      "Error = 2040.27001953125 in GBoost\n",
      "Train error - 0.7331284482493243 in LGBM\n",
      "Test error1.4607728842307477 in LGBM\n",
      "Error = 2038.1313604554389 in LGBM\n",
      "Train error - 0.746978223323822 in MLP\n",
      "Test error1.4623433351516724 in MLP\n",
      "Error = 2040.3226318359375 in MLP\n",
      "------scaled with MinMax scaler------ included columns are selected_ _features_10\n",
      "\n",
      "Train error - 0.003239990910515189 in Ridge\n",
      "Test error0.006188326049596071 in Ridge\n",
      "Error = 2056.882080078125 in Ridge\n",
      "Train error - 0.0032168878151874474 in DecisionTree\n",
      "Test error0.0061814519144583035 in DecisionTree\n",
      "Error = 2054.5971762373274 in DecisionTree\n",
      "Train error - 0.0012085094931766787 in RandomForest\n",
      "Test error0.006174373216255259 in RandomForest\n",
      "Error = 2052.2443510730836 in RandomForest\n",
      "Train error - 0.002951892791315913 in GBoost\n",
      "Test error0.006136078853160143 in GBoost\n",
      "Error = 2039.515625 in GBoost\n",
      "Train error - 0.003076769420243772 in LGBM\n",
      "Test error0.006130484118921436 in LGBM\n",
      "Error = 2037.6564489201091 in LGBM\n",
      "Train error - 0.003341885283589363 in MLP\n",
      "Test error0.006238940171897411 in MLP\n",
      "Error = 2073.705078125 in MLP\n",
      "------scaled with NotScale------ included columns are selected_ _features_10\n",
      "\n",
      "Train error - 1076.7279052734375 in Ridge\n",
      "Test error2056.568359375 in Ridge\n",
      "Train error - 1069.2324011708552 in DecisionTree\n",
      "Test error2054.597176140608 in DecisionTree\n",
      "Train error - 401.62218156690756 in RandomForest\n",
      "Test error2052.6851620519483 in RandomForest\n",
      "Train error - 976.43798828125 in GBoost\n",
      "Test error2039.2135009765625 in GBoost\n",
      "Train error - 1022.939378192528 in LGBM\n",
      "Test error2038.4873761329577 in LGBM\n",
      "Train error - 1061.2886962890625 in MLP\n",
      "Test error2050.89111328125 in MLP\n"
     ]
    }
   ],
   "source": [
    "# Compute the Root Mean Squared Error for each combination of different models, feature sizes and scalars.\n",
    "for feature_set_name in feature_sets.keys():\n",
    "    feature_set = feature_sets[feature_set_name]\n",
    "    for scaler_name in scalers. keys():\n",
    "        print(f\"------scaled with {scaler_name}------ included columns are {feature_set_name}\")\n",
    "        print(\"\")\n",
    "        for model_name in regression_models.keys():\n",
    "            if scaler_name == \"NotScale\":\n",
    "                X = train_df[feature_set]\n",
    "                y = train_df[\"total_duration\"]\n",
    "                X_train, X_test, y_train, y_test = train_test_split(X, y, test_size=0.2, random_state=42)\n",
    "                make_regression(X_train, y_train, X_test, y_test, regression_models[model_name], model_name, verbose=True)\n",
    "            else:\n",
    "                X_scaled, y_scaled, X_scaler, y_scaler = scale(scalers[scaler_name], X[feature_set], y)\n",
    "                X_train_scaled, X_test_scaled, y_train_scaled, y_test_scaled = train_test_split(\n",
    "                    X_scaled, y_scaled, test_size=0.2, random_state=42) \n",
    "                _, y_predict_scaled, _, _ = make_regression(X_train_scaled, y_train_scaled[:,0], X_test_scaled, y_test_scaled[:,0], regression_models[model_name], model_name, verbose=True)\n",
    "                rmse_error, y_predict = rmse_with_inv_transform(y_scaler, y_test, y_predict_scaled, model_name)\n",
    "            pred_dict[\"regression_model\"].append(model_name) \n",
    "            pred_dict[\"feature_set\"].append(feature_set_name)\n",
    "            pred_dict[\"scaler_name\"].append(scaler_name)\n",
    "            pred_dict[\"RMSE\"].append(rmse_error)"
   ]
  },
  {
   "cell_type": "code",
   "execution_count": 82,
   "metadata": {},
   "outputs": [
    {
     "data": {
      "text/html": [
       "<div>\n",
       "<style scoped>\n",
       "    .dataframe tbody tr th:only-of-type {\n",
       "        vertical-align: middle;\n",
       "    }\n",
       "\n",
       "    .dataframe tbody tr th {\n",
       "        vertical-align: top;\n",
       "    }\n",
       "\n",
       "    .dataframe thead th {\n",
       "        text-align: right;\n",
       "    }\n",
       "</style>\n",
       "<table border=\"1\" class=\"dataframe\">\n",
       "  <thead>\n",
       "    <tr style=\"text-align: right;\">\n",
       "      <th></th>\n",
       "      <th>regression_model</th>\n",
       "      <th>feature_set</th>\n",
       "      <th>scaler_name</th>\n",
       "      <th>RMSE</th>\n",
       "    </tr>\n",
       "  </thead>\n",
       "  <tbody>\n",
       "    <tr>\n",
       "      <th>0</th>\n",
       "      <td>Ridge</td>\n",
       "      <td>full dataset</td>\n",
       "      <td>Standard scaler</td>\n",
       "      <td>2053.69873</td>\n",
       "    </tr>\n",
       "    <tr>\n",
       "      <th>1</th>\n",
       "      <td>DecisionTree</td>\n",
       "      <td>full dataset</td>\n",
       "      <td>Standard scaler</td>\n",
       "      <td>2057.247669</td>\n",
       "    </tr>\n",
       "    <tr>\n",
       "      <th>2</th>\n",
       "      <td>RandomForest</td>\n",
       "      <td>full dataset</td>\n",
       "      <td>Standard scaler</td>\n",
       "      <td>2049.375921</td>\n",
       "    </tr>\n",
       "    <tr>\n",
       "      <th>3</th>\n",
       "      <td>GBoost</td>\n",
       "      <td>full dataset</td>\n",
       "      <td>Standard scaler</td>\n",
       "      <td>2036.249878</td>\n",
       "    </tr>\n",
       "    <tr>\n",
       "      <th>4</th>\n",
       "      <td>LGBM</td>\n",
       "      <td>full dataset</td>\n",
       "      <td>Standard scaler</td>\n",
       "      <td>2033.435581</td>\n",
       "    </tr>\n",
       "    <tr>\n",
       "      <th>...</th>\n",
       "      <td>...</td>\n",
       "      <td>...</td>\n",
       "      <td>...</td>\n",
       "      <td>...</td>\n",
       "    </tr>\n",
       "    <tr>\n",
       "      <th>87</th>\n",
       "      <td>GBoost</td>\n",
       "      <td>selected_features_40</td>\n",
       "      <td>Standard scaler</td>\n",
       "      <td>2037.820312</td>\n",
       "    </tr>\n",
       "    <tr>\n",
       "      <th>88</th>\n",
       "      <td>LGBM</td>\n",
       "      <td>selected_features_40</td>\n",
       "      <td>Standard scaler</td>\n",
       "      <td>2035.723637</td>\n",
       "    </tr>\n",
       "    <tr>\n",
       "      <th>89</th>\n",
       "      <td>MLP</td>\n",
       "      <td>selected_features_40</td>\n",
       "      <td>Standard scaler</td>\n",
       "      <td>2037.855469</td>\n",
       "    </tr>\n",
       "    <tr>\n",
       "      <th>90</th>\n",
       "      <td>LGBM</td>\n",
       "      <td>selected_features_40</td>\n",
       "      <td>Standard scaler</td>\n",
       "      <td>2035.723637</td>\n",
       "    </tr>\n",
       "    <tr>\n",
       "      <th>91</th>\n",
       "      <td>ANN</td>\n",
       "      <td>selected_features_40</td>\n",
       "      <td>Standard scaler</td>\n",
       "      <td>(997.8950311722712, [[2963.503], [4305.5015], ...</td>\n",
       "    </tr>\n",
       "  </tbody>\n",
       "</table>\n",
       "<p>92 rows × 4 columns</p>\n",
       "</div>"
      ],
      "text/plain": [
       "   regression_model           feature_set      scaler_name  \\\n",
       "0             Ridge          full dataset  Standard scaler   \n",
       "1      DecisionTree          full dataset  Standard scaler   \n",
       "2      RandomForest          full dataset  Standard scaler   \n",
       "3            GBoost          full dataset  Standard scaler   \n",
       "4              LGBM          full dataset  Standard scaler   \n",
       "..              ...                   ...              ...   \n",
       "87           GBoost  selected_features_40  Standard scaler   \n",
       "88             LGBM  selected_features_40  Standard scaler   \n",
       "89              MLP  selected_features_40  Standard scaler   \n",
       "90             LGBM  selected_features_40  Standard scaler   \n",
       "91              ANN  selected_features_40  Standard scaler   \n",
       "\n",
       "                                                 RMSE  \n",
       "0                                          2053.69873  \n",
       "1                                         2057.247669  \n",
       "2                                         2049.375921  \n",
       "3                                         2036.249878  \n",
       "4                                         2033.435581  \n",
       "..                                                ...  \n",
       "87                                        2037.820312  \n",
       "88                                        2035.723637  \n",
       "89                                        2037.855469  \n",
       "90                                        2035.723637  \n",
       "91  (997.8950311722712, [[2963.503], [4305.5015], ...  \n",
       "\n",
       "[92 rows x 4 columns]"
      ]
     },
     "execution_count": 82,
     "metadata": {},
     "output_type": "execute_result"
    }
   ],
   "source": [
    "# Put all of the models and their RMSE scores in a dataset.\n",
    "pred_df = pd.DataFrame(pred_dict)\n",
    "pred_df"
   ]
  },
  {
   "cell_type": "code",
   "execution_count": 66,
   "metadata": {},
   "outputs": [
    {
     "data": {
      "application/vnd.plotly.v1+json": {
       "config": {
        "plotlyServerURL": "https://plot.ly"
       },
       "data": [
        {
         "alignmentgroup": "True",
         "hovertemplate": "feature_set=full dataset<br>index=%{x}<br>RMSE=%{y}<extra></extra>",
         "legendgroup": "full dataset",
         "marker": {
          "color": "#636efa",
          "pattern": {
           "shape": ""
          }
         },
         "name": "full dataset",
         "offsetgroup": "full dataset",
         "orientation": "v",
         "showlegend": true,
         "textposition": "auto",
         "type": "bar",
         "x": [
          0,
          1,
          2,
          3,
          4,
          5,
          6,
          7,
          8,
          9,
          10,
          11,
          12,
          13,
          14,
          15,
          16,
          17,
          18,
          19,
          20,
          21,
          22,
          23,
          24,
          25,
          26,
          27,
          28,
          29
         ],
         "xaxis": "x",
         "y": [
          2053.69873046875,
          2057.2476687088733,
          2049.375920681131,
          2036.2498779296875,
          2033.4355809987908,
          2039.7174072265625,
          2053.962890625,
          2057.2476685732177,
          2047.68083696559,
          2035.351318359375,
          2034.4499976619875,
          2108.22119140625,
          2053.69873046875,
          2057.2476687088733,
          2047.1422982076203,
          2036.2498779296875,
          2033.4355809987908,
          2038.12109375,
          2053.962890625,
          2057.2476685732177,
          2048.498838770133,
          2035.351318359375,
          2034.4499976619875,
          2104.0888671875,
          2104.0888671875,
          2104.0888671875,
          2104.0888671875,
          2104.0888671875,
          2104.0888671875,
          2104.0888671875
         ],
         "yaxis": "y"
        },
        {
         "alignmentgroup": "True",
         "hovertemplate": "feature_set=selected_features_40<br>index=%{x}<br>RMSE=%{y}<extra></extra>",
         "legendgroup": "selected_features_40",
         "marker": {
          "color": "#EF553B",
          "pattern": {
           "shape": ""
          }
         },
         "name": "selected_features_40",
         "offsetgroup": "selected_features_40",
         "orientation": "v",
         "showlegend": true,
         "textposition": "auto",
         "type": "bar",
         "x": [
          30,
          31,
          32,
          33,
          34,
          35,
          36,
          37,
          38,
          39,
          40,
          41,
          42,
          43,
          44,
          45,
          46,
          47
         ],
         "xaxis": "x",
         "y": [
          2054.00439453125,
          2056.5292024696128,
          2047.6323149574548,
          2035.453369140625,
          2034.6538984910121,
          2036.98193359375,
          2054.27734375,
          2056.5292023632996,
          2049.329132737028,
          2034.2847900390625,
          2035.196536738781,
          2172.291748046875,
          2172.291748046875,
          2172.291748046875,
          2172.291748046875,
          2172.291748046875,
          2172.291748046875,
          2172.291748046875
         ],
         "yaxis": "y"
        },
        {
         "alignmentgroup": "True",
         "hovertemplate": "feature_set=selected_features_20<br>index=%{x}<br>RMSE=%{y}<extra></extra>",
         "legendgroup": "selected_features_20",
         "marker": {
          "color": "#00cc96",
          "pattern": {
           "shape": ""
          }
         },
         "name": "selected_features_20",
         "offsetgroup": "selected_features_20",
         "orientation": "v",
         "showlegend": true,
         "textposition": "auto",
         "type": "bar",
         "x": [
          48,
          49,
          50,
          51,
          52,
          53,
          54,
          55,
          56,
          57,
          58,
          59,
          60,
          61,
          62,
          63,
          64,
          65
         ],
         "xaxis": "x",
         "y": [
          2055.36572265625,
          2054.610311207463,
          2048.998220861293,
          2037.6336669921875,
          2036.0233846729805,
          2037.205078125,
          2055.653076171875,
          2054.6103112689557,
          2047.267510023187,
          2036.5164794921875,
          2035.581516471472,
          2227.280517578125,
          2227.280517578125,
          2227.280517578125,
          2227.280517578125,
          2227.280517578125,
          2227.280517578125,
          2227.280517578125
         ],
         "yaxis": "y"
        },
        {
         "alignmentgroup": "True",
         "hovertemplate": "feature_set=selected_ _features_10<br>index=%{x}<br>RMSE=%{y}<extra></extra>",
         "legendgroup": "selected_ _features_10",
         "marker": {
          "color": "#ab63fa",
          "pattern": {
           "shape": ""
          }
         },
         "name": "selected_ _features_10",
         "offsetgroup": "selected_ _features_10",
         "orientation": "v",
         "showlegend": true,
         "textposition": "auto",
         "type": "bar",
         "x": [
          66,
          67,
          68,
          69,
          70,
          71,
          72,
          73,
          74,
          75,
          76,
          77,
          78,
          79,
          80,
          81,
          82,
          83
         ],
         "xaxis": "x",
         "y": [
          2056.568359375,
          2054.5971761770547,
          2051.349285279795,
          2040.27001953125,
          2038.1313604554389,
          2040.3226318359375,
          2056.882080078125,
          2054.5971762373274,
          2052.2443510730836,
          2039.515625,
          2037.6564489201091,
          2073.705078125,
          2073.705078125,
          2073.705078125,
          2073.705078125,
          2073.705078125,
          2073.705078125,
          2073.705078125
         ],
         "yaxis": "y"
        }
       ],
       "layout": {
        "barmode": "group",
        "legend": {
         "title": {
          "text": "feature_set"
         },
         "tracegroupgap": 0
        },
        "margin": {
         "t": 60
        },
        "template": {
         "data": {
          "bar": [
           {
            "error_x": {
             "color": "#2a3f5f"
            },
            "error_y": {
             "color": "#2a3f5f"
            },
            "marker": {
             "line": {
              "color": "#E5ECF6",
              "width": 0.5
             },
             "pattern": {
              "fillmode": "overlay",
              "size": 10,
              "solidity": 0.2
             }
            },
            "type": "bar"
           }
          ],
          "barpolar": [
           {
            "marker": {
             "line": {
              "color": "#E5ECF6",
              "width": 0.5
             },
             "pattern": {
              "fillmode": "overlay",
              "size": 10,
              "solidity": 0.2
             }
            },
            "type": "barpolar"
           }
          ],
          "carpet": [
           {
            "aaxis": {
             "endlinecolor": "#2a3f5f",
             "gridcolor": "white",
             "linecolor": "white",
             "minorgridcolor": "white",
             "startlinecolor": "#2a3f5f"
            },
            "baxis": {
             "endlinecolor": "#2a3f5f",
             "gridcolor": "white",
             "linecolor": "white",
             "minorgridcolor": "white",
             "startlinecolor": "#2a3f5f"
            },
            "type": "carpet"
           }
          ],
          "choropleth": [
           {
            "colorbar": {
             "outlinewidth": 0,
             "ticks": ""
            },
            "type": "choropleth"
           }
          ],
          "contour": [
           {
            "colorbar": {
             "outlinewidth": 0,
             "ticks": ""
            },
            "colorscale": [
             [
              0,
              "#0d0887"
             ],
             [
              0.1111111111111111,
              "#46039f"
             ],
             [
              0.2222222222222222,
              "#7201a8"
             ],
             [
              0.3333333333333333,
              "#9c179e"
             ],
             [
              0.4444444444444444,
              "#bd3786"
             ],
             [
              0.5555555555555556,
              "#d8576b"
             ],
             [
              0.6666666666666666,
              "#ed7953"
             ],
             [
              0.7777777777777778,
              "#fb9f3a"
             ],
             [
              0.8888888888888888,
              "#fdca26"
             ],
             [
              1,
              "#f0f921"
             ]
            ],
            "type": "contour"
           }
          ],
          "contourcarpet": [
           {
            "colorbar": {
             "outlinewidth": 0,
             "ticks": ""
            },
            "type": "contourcarpet"
           }
          ],
          "heatmap": [
           {
            "colorbar": {
             "outlinewidth": 0,
             "ticks": ""
            },
            "colorscale": [
             [
              0,
              "#0d0887"
             ],
             [
              0.1111111111111111,
              "#46039f"
             ],
             [
              0.2222222222222222,
              "#7201a8"
             ],
             [
              0.3333333333333333,
              "#9c179e"
             ],
             [
              0.4444444444444444,
              "#bd3786"
             ],
             [
              0.5555555555555556,
              "#d8576b"
             ],
             [
              0.6666666666666666,
              "#ed7953"
             ],
             [
              0.7777777777777778,
              "#fb9f3a"
             ],
             [
              0.8888888888888888,
              "#fdca26"
             ],
             [
              1,
              "#f0f921"
             ]
            ],
            "type": "heatmap"
           }
          ],
          "heatmapgl": [
           {
            "colorbar": {
             "outlinewidth": 0,
             "ticks": ""
            },
            "colorscale": [
             [
              0,
              "#0d0887"
             ],
             [
              0.1111111111111111,
              "#46039f"
             ],
             [
              0.2222222222222222,
              "#7201a8"
             ],
             [
              0.3333333333333333,
              "#9c179e"
             ],
             [
              0.4444444444444444,
              "#bd3786"
             ],
             [
              0.5555555555555556,
              "#d8576b"
             ],
             [
              0.6666666666666666,
              "#ed7953"
             ],
             [
              0.7777777777777778,
              "#fb9f3a"
             ],
             [
              0.8888888888888888,
              "#fdca26"
             ],
             [
              1,
              "#f0f921"
             ]
            ],
            "type": "heatmapgl"
           }
          ],
          "histogram": [
           {
            "marker": {
             "pattern": {
              "fillmode": "overlay",
              "size": 10,
              "solidity": 0.2
             }
            },
            "type": "histogram"
           }
          ],
          "histogram2d": [
           {
            "colorbar": {
             "outlinewidth": 0,
             "ticks": ""
            },
            "colorscale": [
             [
              0,
              "#0d0887"
             ],
             [
              0.1111111111111111,
              "#46039f"
             ],
             [
              0.2222222222222222,
              "#7201a8"
             ],
             [
              0.3333333333333333,
              "#9c179e"
             ],
             [
              0.4444444444444444,
              "#bd3786"
             ],
             [
              0.5555555555555556,
              "#d8576b"
             ],
             [
              0.6666666666666666,
              "#ed7953"
             ],
             [
              0.7777777777777778,
              "#fb9f3a"
             ],
             [
              0.8888888888888888,
              "#fdca26"
             ],
             [
              1,
              "#f0f921"
             ]
            ],
            "type": "histogram2d"
           }
          ],
          "histogram2dcontour": [
           {
            "colorbar": {
             "outlinewidth": 0,
             "ticks": ""
            },
            "colorscale": [
             [
              0,
              "#0d0887"
             ],
             [
              0.1111111111111111,
              "#46039f"
             ],
             [
              0.2222222222222222,
              "#7201a8"
             ],
             [
              0.3333333333333333,
              "#9c179e"
             ],
             [
              0.4444444444444444,
              "#bd3786"
             ],
             [
              0.5555555555555556,
              "#d8576b"
             ],
             [
              0.6666666666666666,
              "#ed7953"
             ],
             [
              0.7777777777777778,
              "#fb9f3a"
             ],
             [
              0.8888888888888888,
              "#fdca26"
             ],
             [
              1,
              "#f0f921"
             ]
            ],
            "type": "histogram2dcontour"
           }
          ],
          "mesh3d": [
           {
            "colorbar": {
             "outlinewidth": 0,
             "ticks": ""
            },
            "type": "mesh3d"
           }
          ],
          "parcoords": [
           {
            "line": {
             "colorbar": {
              "outlinewidth": 0,
              "ticks": ""
             }
            },
            "type": "parcoords"
           }
          ],
          "pie": [
           {
            "automargin": true,
            "type": "pie"
           }
          ],
          "scatter": [
           {
            "fillpattern": {
             "fillmode": "overlay",
             "size": 10,
             "solidity": 0.2
            },
            "type": "scatter"
           }
          ],
          "scatter3d": [
           {
            "line": {
             "colorbar": {
              "outlinewidth": 0,
              "ticks": ""
             }
            },
            "marker": {
             "colorbar": {
              "outlinewidth": 0,
              "ticks": ""
             }
            },
            "type": "scatter3d"
           }
          ],
          "scattercarpet": [
           {
            "marker": {
             "colorbar": {
              "outlinewidth": 0,
              "ticks": ""
             }
            },
            "type": "scattercarpet"
           }
          ],
          "scattergeo": [
           {
            "marker": {
             "colorbar": {
              "outlinewidth": 0,
              "ticks": ""
             }
            },
            "type": "scattergeo"
           }
          ],
          "scattergl": [
           {
            "marker": {
             "colorbar": {
              "outlinewidth": 0,
              "ticks": ""
             }
            },
            "type": "scattergl"
           }
          ],
          "scattermapbox": [
           {
            "marker": {
             "colorbar": {
              "outlinewidth": 0,
              "ticks": ""
             }
            },
            "type": "scattermapbox"
           }
          ],
          "scatterpolar": [
           {
            "marker": {
             "colorbar": {
              "outlinewidth": 0,
              "ticks": ""
             }
            },
            "type": "scatterpolar"
           }
          ],
          "scatterpolargl": [
           {
            "marker": {
             "colorbar": {
              "outlinewidth": 0,
              "ticks": ""
             }
            },
            "type": "scatterpolargl"
           }
          ],
          "scatterternary": [
           {
            "marker": {
             "colorbar": {
              "outlinewidth": 0,
              "ticks": ""
             }
            },
            "type": "scatterternary"
           }
          ],
          "surface": [
           {
            "colorbar": {
             "outlinewidth": 0,
             "ticks": ""
            },
            "colorscale": [
             [
              0,
              "#0d0887"
             ],
             [
              0.1111111111111111,
              "#46039f"
             ],
             [
              0.2222222222222222,
              "#7201a8"
             ],
             [
              0.3333333333333333,
              "#9c179e"
             ],
             [
              0.4444444444444444,
              "#bd3786"
             ],
             [
              0.5555555555555556,
              "#d8576b"
             ],
             [
              0.6666666666666666,
              "#ed7953"
             ],
             [
              0.7777777777777778,
              "#fb9f3a"
             ],
             [
              0.8888888888888888,
              "#fdca26"
             ],
             [
              1,
              "#f0f921"
             ]
            ],
            "type": "surface"
           }
          ],
          "table": [
           {
            "cells": {
             "fill": {
              "color": "#EBF0F8"
             },
             "line": {
              "color": "white"
             }
            },
            "header": {
             "fill": {
              "color": "#C8D4E3"
             },
             "line": {
              "color": "white"
             }
            },
            "type": "table"
           }
          ]
         },
         "layout": {
          "annotationdefaults": {
           "arrowcolor": "#2a3f5f",
           "arrowhead": 0,
           "arrowwidth": 1
          },
          "autotypenumbers": "strict",
          "coloraxis": {
           "colorbar": {
            "outlinewidth": 0,
            "ticks": ""
           }
          },
          "colorscale": {
           "diverging": [
            [
             0,
             "#8e0152"
            ],
            [
             0.1,
             "#c51b7d"
            ],
            [
             0.2,
             "#de77ae"
            ],
            [
             0.3,
             "#f1b6da"
            ],
            [
             0.4,
             "#fde0ef"
            ],
            [
             0.5,
             "#f7f7f7"
            ],
            [
             0.6,
             "#e6f5d0"
            ],
            [
             0.7,
             "#b8e186"
            ],
            [
             0.8,
             "#7fbc41"
            ],
            [
             0.9,
             "#4d9221"
            ],
            [
             1,
             "#276419"
            ]
           ],
           "sequential": [
            [
             0,
             "#0d0887"
            ],
            [
             0.1111111111111111,
             "#46039f"
            ],
            [
             0.2222222222222222,
             "#7201a8"
            ],
            [
             0.3333333333333333,
             "#9c179e"
            ],
            [
             0.4444444444444444,
             "#bd3786"
            ],
            [
             0.5555555555555556,
             "#d8576b"
            ],
            [
             0.6666666666666666,
             "#ed7953"
            ],
            [
             0.7777777777777778,
             "#fb9f3a"
            ],
            [
             0.8888888888888888,
             "#fdca26"
            ],
            [
             1,
             "#f0f921"
            ]
           ],
           "sequentialminus": [
            [
             0,
             "#0d0887"
            ],
            [
             0.1111111111111111,
             "#46039f"
            ],
            [
             0.2222222222222222,
             "#7201a8"
            ],
            [
             0.3333333333333333,
             "#9c179e"
            ],
            [
             0.4444444444444444,
             "#bd3786"
            ],
            [
             0.5555555555555556,
             "#d8576b"
            ],
            [
             0.6666666666666666,
             "#ed7953"
            ],
            [
             0.7777777777777778,
             "#fb9f3a"
            ],
            [
             0.8888888888888888,
             "#fdca26"
            ],
            [
             1,
             "#f0f921"
            ]
           ]
          },
          "colorway": [
           "#636efa",
           "#EF553B",
           "#00cc96",
           "#ab63fa",
           "#FFA15A",
           "#19d3f3",
           "#FF6692",
           "#B6E880",
           "#FF97FF",
           "#FECB52"
          ],
          "font": {
           "color": "#2a3f5f"
          },
          "geo": {
           "bgcolor": "white",
           "lakecolor": "white",
           "landcolor": "#E5ECF6",
           "showlakes": true,
           "showland": true,
           "subunitcolor": "white"
          },
          "hoverlabel": {
           "align": "left"
          },
          "hovermode": "closest",
          "mapbox": {
           "style": "light"
          },
          "paper_bgcolor": "white",
          "plot_bgcolor": "#E5ECF6",
          "polar": {
           "angularaxis": {
            "gridcolor": "white",
            "linecolor": "white",
            "ticks": ""
           },
           "bgcolor": "#E5ECF6",
           "radialaxis": {
            "gridcolor": "white",
            "linecolor": "white",
            "ticks": ""
           }
          },
          "scene": {
           "xaxis": {
            "backgroundcolor": "#E5ECF6",
            "gridcolor": "white",
            "gridwidth": 2,
            "linecolor": "white",
            "showbackground": true,
            "ticks": "",
            "zerolinecolor": "white"
           },
           "yaxis": {
            "backgroundcolor": "#E5ECF6",
            "gridcolor": "white",
            "gridwidth": 2,
            "linecolor": "white",
            "showbackground": true,
            "ticks": "",
            "zerolinecolor": "white"
           },
           "zaxis": {
            "backgroundcolor": "#E5ECF6",
            "gridcolor": "white",
            "gridwidth": 2,
            "linecolor": "white",
            "showbackground": true,
            "ticks": "",
            "zerolinecolor": "white"
           }
          },
          "shapedefaults": {
           "line": {
            "color": "#2a3f5f"
           }
          },
          "ternary": {
           "aaxis": {
            "gridcolor": "white",
            "linecolor": "white",
            "ticks": ""
           },
           "baxis": {
            "gridcolor": "white",
            "linecolor": "white",
            "ticks": ""
           },
           "bgcolor": "#E5ECF6",
           "caxis": {
            "gridcolor": "white",
            "linecolor": "white",
            "ticks": ""
           }
          },
          "title": {
           "x": 0.05
          },
          "xaxis": {
           "automargin": true,
           "gridcolor": "white",
           "linecolor": "white",
           "ticks": "",
           "title": {
            "standoff": 15
           },
           "zerolinecolor": "white",
           "zerolinewidth": 2
          },
          "yaxis": {
           "automargin": true,
           "gridcolor": "white",
           "linecolor": "white",
           "ticks": "",
           "title": {
            "standoff": 15
           },
           "zerolinecolor": "white",
           "zerolinewidth": 2
          }
         }
        },
        "xaxis": {
         "anchor": "y",
         "domain": [
          0,
          1
         ],
         "title": {
          "text": "index"
         }
        },
        "yaxis": {
         "anchor": "x",
         "domain": [
          0,
          1
         ],
         "title": {
          "text": "RMSE"
         }
        }
       }
      }
     },
     "metadata": {},
     "output_type": "display_data"
    }
   ],
   "source": [
    "# Plot the RMSE scores.\n",
    "px.bar(pred_df, y='RMSE', color='feature_set', barmode='group')"
   ]
  },
  {
   "attachments": {},
   "cell_type": "markdown",
   "metadata": {},
   "source": [
    "* The models appear to have a high error rate.\n",
    "* The specific scalar used does not seem to impact model performance.\n",
    "* The decrease in training feature size first slightly improves the performance and then marginally made it worse.\n",
    "\n",
    "Moving forward we will\n",
    "\n",
    "* Use only the standard scalar.\n",
    "* Use a feature size of 40.\n",
    "* Change our dependant variable to preperation time and then add our prediction to the estimated_store_to_consumer_driving_duration and estimated_order_place_duration to find the total_diuration."
   ]
  },
  {
   "cell_type": "code",
   "execution_count": 67,
   "metadata": {},
   "outputs": [
    {
     "name": "stdout",
     "output_type": "stream",
     "text": [
      "-----scaled with Standard scaler-------- included columns are selected_features_40\n",
      "\n",
      "Error = 2055.40771484375 in Ridge\n",
      "Error = 2045.9600605629953 in DecisionTree\n",
      "Error = 2046.905540283222 in RandomForest\n",
      "Error = 2037.8203125 in GBoost\n",
      "Error = 2035.7236370573405 in LGBM\n",
      "Error = 2037.85546875 in MLP\n"
     ]
    }
   ],
   "source": [
    "# Change the dependant variable to the preperation time.\n",
    "train_df[\"prep_time\"] = train_df[\"total_duration\"] - train_df[\"estimated_store_to_consumer_driving_duration\"] - train_df[\"estimated_order_place_duration\"]\n",
    "\n",
    "# The specific scalar used does not impact the model perfomance. We will use the standard scalar.\n",
    "scalers = {\n",
    "    \"Standard scaler\": StandardScaler(),\n",
    "}\n",
    "# Use the 40 most important features by Gini importance.\n",
    "feature_sets = {\n",
    "    \"selected_features_40\": importances.sort_values(by='Gini-importance')[-40:].index.tolist(),\n",
    "}\n",
    "\n",
    "# Compute the Root Mean Squared Error for all the models with a feature size of 40 and the standard scalar. \n",
    "for feature_set_name in feature_sets.keys():\n",
    "    feature_set = feature_sets[feature_set_name]\n",
    "    for scaler_name in scalers.keys():\n",
    "        print(f\"-----scaled with {scaler_name}-------- included columns are {feature_set_name}\")\n",
    "        print(\"\")\n",
    "        for model_name in regression_models.keys():  \n",
    "            # Drop estimated_store_to_consumer_driving_duration and estimated_order_place_duration.\n",
    "            X = train_df[feature_set].drop(columns=[\"estimated_store_to_consumer_driving_duration\", \n",
    "                                           \"estimated_order_place_duration\"])\n",
    "            y = train_df[\"prep_time\"]\n",
    "            \n",
    "            # To get indices.\n",
    "            X_train, X_test, y_train, y_test = train_test_split(X, y, test_size=0.2, random_state=42)\n",
    "            train_indices = X_train.index\n",
    "            test_indices  = X_test.index\n",
    "            \n",
    "            # Scale\n",
    "            X_scaled, y_scaled, X_scaler, y_scaler = scale(scalers[scaler_name], X, y)\n",
    "            \n",
    "            # Apply indexing.\n",
    "            X_train_scaled, X_test_scaled, y_train_scaled, y_test_scaled = train_test_split(X_scaled, y_scaled, test_size=0.2, random_state=42)\n",
    "            _, y_predict_scaled, _, _ = make_regression(X_train_scaled, y_train_scaled[:,0], X_test_scaled, y_test_scaled[:,0], regression_models[model_name], model_name, verbose=False)\n",
    "            rmse_error, y_predict = rmse_with_inv_transform(y_scaler, y_test, y_predict_scaled, model_name)\n",
    "            pred_dict[\"regression_model\"].append(model_name)\n",
    "            pred_dict[\"feature_set\"].append(feature_set_name)\n",
    "            pred_dict[\"scaler_name\"].append(scaler_name)\n",
    "            pred_dict[\"RMSE\"].append(rmse_error)\n",
    "        "
   ]
  },
  {
   "attachments": {},
   "cell_type": "markdown",
   "metadata": {},
   "source": [
    "LGM preforms the best out of all the models so we will use it to make our predictions."
   ]
  },
  {
   "cell_type": "code",
   "execution_count": 68,
   "metadata": {},
   "outputs": [
    {
     "name": "stdout",
     "output_type": "stream",
     "text": [
      "-----scaled with Standard scaler-------- included columns are selected_features_40\n",
      "\n",
      "Error = 2035.7236370573405 in LGBM\n"
     ]
    }
   ],
   "source": [
    "# The specific scalar used does not impact the model perfomance. We will use the standard scalar.\n",
    "scalers = {\n",
    "    \"Standard scaler\": StandardScaler(),\n",
    "}\n",
    "\n",
    "# Use the 40 most important features by Gini importance.\n",
    "feature_sets = {\n",
    "    \"selected_features_40\": importances.sort_values(by='Gini-importance')[-40:].index.tolist(),\n",
    "}\n",
    "\n",
    "# Use only LGM\n",
    "regression_models = {\n",
    "    \"LGBM\": LGBMRegressor(),\n",
    "}\n",
    "\n",
    "# Compute the Root Mean Squared Error for the LGM model with a feature size of 40 and the standard scalar. \n",
    "for feature_set_name in feature_sets.keys():\n",
    "    feature_set = feature_sets[feature_set_name]\n",
    "    for scaler_name in scalers.keys():\n",
    "        print(f\"-----scaled with {scaler_name}-------- included columns are {feature_set_name}\")\n",
    "        print(\"\")\n",
    "        for model_name in regression_models.keys():  \n",
    "            # Drop estimated_store_to_consumer_driving_duration and estimated_order_place_duration.\n",
    "            X = train_df[feature_set].drop(columns=[\"estimated_store_to_consumer_driving_duration\", \n",
    "                                           \"estimated_order_place_duration\"])\n",
    "            y = train_df[\"prep_time\"]\n",
    "            \n",
    "            # To get indices.\n",
    "            X_train, X_test, y_train, y_test = train_test_split(X, y, test_size=0.2, random_state=42)\n",
    "            train_indices = X_train.index\n",
    "            test_indices  = X_test.index\n",
    "            \n",
    "            # Scale\n",
    "            X_scaled, y_scaled, X_scaler, y_scaler = scale(scalers[scaler_name], X, y)\n",
    "            \n",
    "            # Apply indexing.\n",
    "            X_train_scaled, X_test_scaled, y_train_scaled, y_test_scaled = train_test_split(X_scaled, y_scaled, test_size=0.2, random_state=42)\n",
    "            _, y_predict_scaled, _, _ = make_regression(X_train_scaled, y_train_scaled[:,0], X_test_scaled, y_test_scaled[:,0], regression_models[model_name], model_name, verbose=False)\n",
    "            rmse_error, y_predict = rmse_with_inv_transform(y_scaler, y_test, y_predict_scaled, model_name)\n",
    "            pred_dict[\"regression_model\"].append(model_name)\n",
    "            pred_dict[\"feature_set\"].append(feature_set_name)\n",
    "            pred_dict[\"scaler_name\"].append(scaler_name)\n",
    "            pred_dict[\"RMSE\"].append(rmse_error)"
   ]
  },
  {
   "cell_type": "code",
   "execution_count": 70,
   "metadata": {},
   "outputs": [],
   "source": [
    "# Choose best performing model and extract the predictions for preparation duration.\n",
    "pred_values_dict = {\n",
    "    \"total_duration\": train_df[\"total_duration\"][test_indices].values.tolist(), \n",
    "    \"prep_duration_prediction\":y_predict[:,0].tolist(),\n",
    "    \"estimated_store_to_consumer_driving_duration\": train_df[\"estimated_store_to_consumer_driving_duration\"][test_indices].values.tolist(),\n",
    "    \"estimated_order_place_duration\": train_df[\"estimated_order_place_duration\"][test_indices].values.tolist(),\n",
    "}             "
   ]
  },
  {
   "cell_type": "code",
   "execution_count": 71,
   "metadata": {},
   "outputs": [
    {
     "data": {
      "text/html": [
       "<div>\n",
       "<style scoped>\n",
       "    .dataframe tbody tr th:only-of-type {\n",
       "        vertical-align: middle;\n",
       "    }\n",
       "\n",
       "    .dataframe tbody tr th {\n",
       "        vertical-align: top;\n",
       "    }\n",
       "\n",
       "    .dataframe thead th {\n",
       "        text-align: right;\n",
       "    }\n",
       "</style>\n",
       "<table border=\"1\" class=\"dataframe\">\n",
       "  <thead>\n",
       "    <tr style=\"text-align: right;\">\n",
       "      <th></th>\n",
       "      <th>total_duration</th>\n",
       "      <th>prep_duration_prediction</th>\n",
       "      <th>estimated_store_to_consumer_driving_duration</th>\n",
       "      <th>estimated_order_place_duration</th>\n",
       "    </tr>\n",
       "  </thead>\n",
       "  <tbody>\n",
       "    <tr>\n",
       "      <th>0</th>\n",
       "      <td>2448.0</td>\n",
       "      <td>1734.115287</td>\n",
       "      <td>380.0</td>\n",
       "      <td>251.0</td>\n",
       "    </tr>\n",
       "    <tr>\n",
       "      <th>1</th>\n",
       "      <td>1839.0</td>\n",
       "      <td>1508.588146</td>\n",
       "      <td>747.0</td>\n",
       "      <td>446.0</td>\n",
       "    </tr>\n",
       "    <tr>\n",
       "      <th>2</th>\n",
       "      <td>1927.0</td>\n",
       "      <td>2141.085685</td>\n",
       "      <td>543.0</td>\n",
       "      <td>251.0</td>\n",
       "    </tr>\n",
       "    <tr>\n",
       "      <th>3</th>\n",
       "      <td>2657.0</td>\n",
       "      <td>1312.559865</td>\n",
       "      <td>445.0</td>\n",
       "      <td>251.0</td>\n",
       "    </tr>\n",
       "    <tr>\n",
       "      <th>4</th>\n",
       "      <td>3596.0</td>\n",
       "      <td>1945.871826</td>\n",
       "      <td>691.0</td>\n",
       "      <td>446.0</td>\n",
       "    </tr>\n",
       "    <tr>\n",
       "      <th>...</th>\n",
       "      <td>...</td>\n",
       "      <td>...</td>\n",
       "      <td>...</td>\n",
       "      <td>...</td>\n",
       "    </tr>\n",
       "    <tr>\n",
       "      <th>35409</th>\n",
       "      <td>9557.0</td>\n",
       "      <td>2623.132706</td>\n",
       "      <td>768.0</td>\n",
       "      <td>446.0</td>\n",
       "    </tr>\n",
       "    <tr>\n",
       "      <th>35410</th>\n",
       "      <td>1864.0</td>\n",
       "      <td>2148.159250</td>\n",
       "      <td>324.0</td>\n",
       "      <td>446.0</td>\n",
       "    </tr>\n",
       "    <tr>\n",
       "      <th>35411</th>\n",
       "      <td>2674.0</td>\n",
       "      <td>1939.286320</td>\n",
       "      <td>791.0</td>\n",
       "      <td>251.0</td>\n",
       "    </tr>\n",
       "    <tr>\n",
       "      <th>35412</th>\n",
       "      <td>2234.0</td>\n",
       "      <td>1930.656157</td>\n",
       "      <td>687.0</td>\n",
       "      <td>251.0</td>\n",
       "    </tr>\n",
       "    <tr>\n",
       "      <th>35413</th>\n",
       "      <td>1441.0</td>\n",
       "      <td>1623.885083</td>\n",
       "      <td>452.0</td>\n",
       "      <td>446.0</td>\n",
       "    </tr>\n",
       "  </tbody>\n",
       "</table>\n",
       "<p>35414 rows × 4 columns</p>\n",
       "</div>"
      ],
      "text/plain": [
       "       total_duration  prep_duration_prediction  \\\n",
       "0              2448.0               1734.115287   \n",
       "1              1839.0               1508.588146   \n",
       "2              1927.0               2141.085685   \n",
       "3              2657.0               1312.559865   \n",
       "4              3596.0               1945.871826   \n",
       "...               ...                       ...   \n",
       "35409          9557.0               2623.132706   \n",
       "35410          1864.0               2148.159250   \n",
       "35411          2674.0               1939.286320   \n",
       "35412          2234.0               1930.656157   \n",
       "35413          1441.0               1623.885083   \n",
       "\n",
       "       estimated_store_to_consumer_driving_duration  \\\n",
       "0                                             380.0   \n",
       "1                                             747.0   \n",
       "2                                             543.0   \n",
       "3                                             445.0   \n",
       "4                                             691.0   \n",
       "...                                             ...   \n",
       "35409                                         768.0   \n",
       "35410                                         324.0   \n",
       "35411                                         791.0   \n",
       "35412                                         687.0   \n",
       "35413                                         452.0   \n",
       "\n",
       "       estimated_order_place_duration  \n",
       "0                               251.0  \n",
       "1                               446.0  \n",
       "2                               251.0  \n",
       "3                               251.0  \n",
       "4                               446.0  \n",
       "...                               ...  \n",
       "35409                           446.0  \n",
       "35410                           446.0  \n",
       "35411                           251.0  \n",
       "35412                           251.0  \n",
       "35413                           446.0  \n",
       "\n",
       "[35414 rows x 4 columns]"
      ]
     },
     "execution_count": 71,
     "metadata": {},
     "output_type": "execute_result"
    }
   ],
   "source": [
    "# Convert predictions to a dataframe from dict.\n",
    "values_df = pd.DataFrame.from_dict(pred_values_dict)\n",
    "values_df"
   ]
  },
  {
   "cell_type": "code",
   "execution_count": 72,
   "metadata": {},
   "outputs": [
    {
     "data": {
      "text/html": [
       "<div>\n",
       "<style scoped>\n",
       "    .dataframe tbody tr th:only-of-type {\n",
       "        vertical-align: middle;\n",
       "    }\n",
       "\n",
       "    .dataframe tbody tr th {\n",
       "        vertical-align: top;\n",
       "    }\n",
       "\n",
       "    .dataframe thead th {\n",
       "        text-align: right;\n",
       "    }\n",
       "</style>\n",
       "<table border=\"1\" class=\"dataframe\">\n",
       "  <thead>\n",
       "    <tr style=\"text-align: right;\">\n",
       "      <th></th>\n",
       "      <th>total_duration</th>\n",
       "      <th>prep_duration_prediction</th>\n",
       "      <th>estimated_store_to_consumer_driving_duration</th>\n",
       "      <th>estimated_order_place_duration</th>\n",
       "      <th>sum_total_delivery_duration</th>\n",
       "    </tr>\n",
       "  </thead>\n",
       "  <tbody>\n",
       "    <tr>\n",
       "      <th>0</th>\n",
       "      <td>2448.0</td>\n",
       "      <td>1734.115287</td>\n",
       "      <td>380.0</td>\n",
       "      <td>251.0</td>\n",
       "      <td>2365.115287</td>\n",
       "    </tr>\n",
       "    <tr>\n",
       "      <th>1</th>\n",
       "      <td>1839.0</td>\n",
       "      <td>1508.588146</td>\n",
       "      <td>747.0</td>\n",
       "      <td>446.0</td>\n",
       "      <td>2701.588146</td>\n",
       "    </tr>\n",
       "    <tr>\n",
       "      <th>2</th>\n",
       "      <td>1927.0</td>\n",
       "      <td>2141.085685</td>\n",
       "      <td>543.0</td>\n",
       "      <td>251.0</td>\n",
       "      <td>2935.085685</td>\n",
       "    </tr>\n",
       "    <tr>\n",
       "      <th>3</th>\n",
       "      <td>2657.0</td>\n",
       "      <td>1312.559865</td>\n",
       "      <td>445.0</td>\n",
       "      <td>251.0</td>\n",
       "      <td>2008.559865</td>\n",
       "    </tr>\n",
       "    <tr>\n",
       "      <th>4</th>\n",
       "      <td>3596.0</td>\n",
       "      <td>1945.871826</td>\n",
       "      <td>691.0</td>\n",
       "      <td>446.0</td>\n",
       "      <td>3082.871826</td>\n",
       "    </tr>\n",
       "    <tr>\n",
       "      <th>...</th>\n",
       "      <td>...</td>\n",
       "      <td>...</td>\n",
       "      <td>...</td>\n",
       "      <td>...</td>\n",
       "      <td>...</td>\n",
       "    </tr>\n",
       "    <tr>\n",
       "      <th>35409</th>\n",
       "      <td>9557.0</td>\n",
       "      <td>2623.132706</td>\n",
       "      <td>768.0</td>\n",
       "      <td>446.0</td>\n",
       "      <td>3837.132706</td>\n",
       "    </tr>\n",
       "    <tr>\n",
       "      <th>35410</th>\n",
       "      <td>1864.0</td>\n",
       "      <td>2148.159250</td>\n",
       "      <td>324.0</td>\n",
       "      <td>446.0</td>\n",
       "      <td>2918.159250</td>\n",
       "    </tr>\n",
       "    <tr>\n",
       "      <th>35411</th>\n",
       "      <td>2674.0</td>\n",
       "      <td>1939.286320</td>\n",
       "      <td>791.0</td>\n",
       "      <td>251.0</td>\n",
       "      <td>2981.286320</td>\n",
       "    </tr>\n",
       "    <tr>\n",
       "      <th>35412</th>\n",
       "      <td>2234.0</td>\n",
       "      <td>1930.656157</td>\n",
       "      <td>687.0</td>\n",
       "      <td>251.0</td>\n",
       "      <td>2868.656157</td>\n",
       "    </tr>\n",
       "    <tr>\n",
       "      <th>35413</th>\n",
       "      <td>1441.0</td>\n",
       "      <td>1623.885083</td>\n",
       "      <td>452.0</td>\n",
       "      <td>446.0</td>\n",
       "      <td>2521.885083</td>\n",
       "    </tr>\n",
       "  </tbody>\n",
       "</table>\n",
       "<p>35414 rows × 5 columns</p>\n",
       "</div>"
      ],
      "text/plain": [
       "       total_duration  prep_duration_prediction  \\\n",
       "0              2448.0               1734.115287   \n",
       "1              1839.0               1508.588146   \n",
       "2              1927.0               2141.085685   \n",
       "3              2657.0               1312.559865   \n",
       "4              3596.0               1945.871826   \n",
       "...               ...                       ...   \n",
       "35409          9557.0               2623.132706   \n",
       "35410          1864.0               2148.159250   \n",
       "35411          2674.0               1939.286320   \n",
       "35412          2234.0               1930.656157   \n",
       "35413          1441.0               1623.885083   \n",
       "\n",
       "       estimated_store_to_consumer_driving_duration  \\\n",
       "0                                             380.0   \n",
       "1                                             747.0   \n",
       "2                                             543.0   \n",
       "3                                             445.0   \n",
       "4                                             691.0   \n",
       "...                                             ...   \n",
       "35409                                         768.0   \n",
       "35410                                         324.0   \n",
       "35411                                         791.0   \n",
       "35412                                         687.0   \n",
       "35413                                         452.0   \n",
       "\n",
       "       estimated_order_place_duration  sum_total_delivery_duration  \n",
       "0                               251.0                  2365.115287  \n",
       "1                               446.0                  2701.588146  \n",
       "2                               251.0                  2935.085685  \n",
       "3                               251.0                  2008.559865  \n",
       "4                               446.0                  3082.871826  \n",
       "...                               ...                          ...  \n",
       "35409                           446.0                  3837.132706  \n",
       "35410                           446.0                  2918.159250  \n",
       "35411                           251.0                  2981.286320  \n",
       "35412                           251.0                  2868.656157  \n",
       "35413                           446.0                  2521.885083  \n",
       "\n",
       "[35414 rows x 5 columns]"
      ]
     },
     "execution_count": 72,
     "metadata": {},
     "output_type": "execute_result"
    }
   ],
   "source": [
    "# Sum predictions with non preparation activities such as order placing and driving.\n",
    "values_df[\"sum_total_delivery_duration\"] = values_df[\"prep_duration_prediction\"] + values_df[\"estimated_store_to_consumer_driving_duration\"] + values_df[\"estimated_order_place_duration\"]\n",
    "values_df"
   ]
  },
  {
   "cell_type": "code",
   "execution_count": 74,
   "metadata": {},
   "outputs": [
    {
     "data": {
      "text/plain": [
       "2035.7236370573405"
      ]
     },
     "execution_count": 74,
     "metadata": {},
     "output_type": "execute_result"
    }
   ],
   "source": [
    "# Check new error rate.\n",
    "mean_squared_error(values_df[\"total_duration\"], values_df[\"sum_total_delivery_duration\"], squared=False)"
   ]
  },
  {
   "attachments": {},
   "cell_type": "markdown",
   "metadata": {},
   "source": [
    "The RMSE is still large so we will now use another regresion to obtain the actual total delivery duration using preparation duration prediction, estimated store-to-consumer driving duration, and order place duration"
   ]
  },
  {
   "cell_type": "code",
   "execution_count": 76,
   "metadata": {},
   "outputs": [],
   "source": [
    "# Train test split our features.\n",
    "X = values_df[[\"prep_duration_prediction\", \"estimated_store_to_consumer_driving_duration\", \"estimated_order_place_duration\"]]\n",
    "y = values_df[\"total_duration\"]\n",
    "X_train, X_test, y_train, y_test = train_test_split(X, y, test_size=0.2, random_state=42)"
   ]
  },
  {
   "cell_type": "code",
   "execution_count": 77,
   "metadata": {},
   "outputs": [
    {
     "name": "stdout",
     "output_type": "stream",
     "text": [
      "RMSE of: LinearReg 986.6912510303843\n",
      "RMSE of: Ridge 986.6912510344929\n",
      "RMSE of: DecisionTree 1235.578088153976\n",
      "RMSE of: RandomForest 1229.765929451028\n",
      "RMSE of: XGBoost 1370.412425918564\n",
      "RMSE of: LGBM 1079.2949179771774\n",
      "RMSE of: MLP 987.0169352315239\n"
     ]
    }
   ],
   "source": [
    "# Define a dictionary with all of the regression models we want to use.\n",
    "regression_models = {\n",
    "    \"LinearReg\" : linear_model.LinearRegression(),\n",
    "    \"Ridge\" : linear_model.Ridge(),\n",
    "    \"DecisionTree\" : tree.DecisionTreeRegressor(max_depth=6),\n",
    "    \"RandomForest\" : RandomForestRegressor(),\n",
    "    \"XGBoost\": XGBRegressor(),\n",
    "    \"LGBM\": LGBMRegressor(),\n",
    "    \"MLP\":  MLPRegressor(),\n",
    "}\n",
    "# Use for loop and make_regression function to get the RMSE of all the different models.\n",
    "for model_name in regression_models.keys():\n",
    "    _, y_predict, _, _= make_regression(\n",
    "        X_train, y_train, X_test, y_test,regression_models[model_name], model_name, verbose=False)\n",
    "    print(\"RMSE of:\",model_name, mean_squared_error(y_test,y_predict, squared=False))"
   ]
  },
  {
   "attachments": {},
   "cell_type": "markdown",
   "metadata": {},
   "source": [
    "This approach has halved the error rate of our models and there for is our solution."
   ]
  },
  {
   "attachments": {},
   "cell_type": "markdown",
   "metadata": {},
   "source": [
    "# Deep Learning"
   ]
  },
  {
   "attachments": {},
   "cell_type": "markdown",
   "metadata": {},
   "source": [
    "The MLP performance was not better than the tree based regressions when predicting the preperation duration, which would suggest that Artificial Neural Networks wont preform better than our classical machine learning models. However the MLP did preform relatively well when predicting the total_duration so we will try out an ANN."
   ]
  },
  {
   "cell_type": "code",
   "execution_count": 78,
   "metadata": {},
   "outputs": [],
   "source": [
    "# Dependencies\n",
    "import keras\n",
    "from keras.models import Sequential\n",
    "from keras.layers import Dense\n",
    "import tensorflow as tf\n",
    "tf.random.set_seed(42)\n",
    "\n",
    "# Neural network.\n",
    "def create_model(feature_set_size):\n",
    "    \n",
    "    # Define the model.\n",
    "    model = Sequential()\n",
    "    model.add(Dense(16, input_dim=feature_set_size, activation='relu'))\n",
    "    model.add(Dense(1, activation='linear'))\n",
    "    \n",
    "    # Compile the model.\n",
    "    model.compile(optimizer='sgd', loss='mse',\n",
    "        metrics=[tf.keras.metrics.RootMeanSquaredError()])\n",
    "    \n",
    "    return model"
   ]
  },
  {
   "cell_type": "code",
   "execution_count": 80,
   "metadata": {},
   "outputs": [
    {
     "name": "stdout",
     "output_type": "stream",
     "text": [
      "-----scaled with Standard scaler-------- included columns are selected_features_40\n",
      "\n",
      "feature_set_size: 3\n",
      "Epoch 1/100\n",
      "443/443 [==============================] - 3s 5ms/step - loss: 1.1366 - root_mean_squared_error: 1.0661\n",
      "Epoch 2/100\n",
      "443/443 [==============================] - 2s 4ms/step - loss: 1.1195 - root_mean_squared_error: 1.0581\n",
      "Epoch 3/100\n",
      "443/443 [==============================] - 2s 5ms/step - loss: 1.1186 - root_mean_squared_error: 1.0576\n",
      "Epoch 4/100\n",
      "443/443 [==============================] - 2s 4ms/step - loss: 1.1185 - root_mean_squared_error: 1.0576\n",
      "Epoch 5/100\n",
      "443/443 [==============================] - 2s 4ms/step - loss: 1.1181 - root_mean_squared_error: 1.0574\n",
      "Epoch 6/100\n",
      "443/443 [==============================] - 2s 4ms/step - loss: 1.1182 - root_mean_squared_error: 1.0575\n",
      "Epoch 7/100\n",
      "443/443 [==============================] - 2s 4ms/step - loss: 1.1180 - root_mean_squared_error: 1.0574\n",
      "Epoch 8/100\n",
      "443/443 [==============================] - 2s 5ms/step - loss: 1.1179 - root_mean_squared_error: 1.0573\n",
      "Epoch 9/100\n",
      "443/443 [==============================] - 2s 5ms/step - loss: 1.1179 - root_mean_squared_error: 1.0573\n",
      "Epoch 10/100\n",
      "443/443 [==============================] - 2s 4ms/step - loss: 1.1179 - root_mean_squared_error: 1.0573\n",
      "Epoch 11/100\n",
      "443/443 [==============================] - 2s 4ms/step - loss: 1.1178 - root_mean_squared_error: 1.0573\n",
      "Epoch 12/100\n",
      "443/443 [==============================] - 2s 4ms/step - loss: 1.1175 - root_mean_squared_error: 1.0571\n",
      "Epoch 13/100\n",
      "443/443 [==============================] - 2s 4ms/step - loss: 1.1178 - root_mean_squared_error: 1.0573\n",
      "Epoch 14/100\n",
      "443/443 [==============================] - 2s 4ms/step - loss: 1.1174 - root_mean_squared_error: 1.0571\n",
      "Epoch 15/100\n",
      "443/443 [==============================] - 2s 4ms/step - loss: 1.1176 - root_mean_squared_error: 1.0572\n",
      "Epoch 16/100\n",
      "443/443 [==============================] - 2s 4ms/step - loss: 1.1176 - root_mean_squared_error: 1.0571\n",
      "Epoch 17/100\n",
      "443/443 [==============================] - 2s 4ms/step - loss: 1.1176 - root_mean_squared_error: 1.0572\n",
      "Epoch 18/100\n",
      "443/443 [==============================] - 2s 4ms/step - loss: 1.1176 - root_mean_squared_error: 1.0572\n",
      "Epoch 19/100\n",
      "443/443 [==============================] - 2s 4ms/step - loss: 1.1176 - root_mean_squared_error: 1.0572\n",
      "Epoch 20/100\n",
      "443/443 [==============================] - 2s 4ms/step - loss: 1.1172 - root_mean_squared_error: 1.0570\n",
      "Epoch 21/100\n",
      "443/443 [==============================] - 2s 4ms/step - loss: 1.1174 - root_mean_squared_error: 1.0571\n",
      "Epoch 22/100\n",
      "443/443 [==============================] - 2s 4ms/step - loss: 1.1174 - root_mean_squared_error: 1.0571\n",
      "Epoch 23/100\n",
      "443/443 [==============================] - 2s 4ms/step - loss: 1.1174 - root_mean_squared_error: 1.0571\n",
      "Epoch 24/100\n",
      "443/443 [==============================] - 2s 4ms/step - loss: 1.1171 - root_mean_squared_error: 1.0569\n",
      "Epoch 25/100\n",
      "443/443 [==============================] - 2s 4ms/step - loss: 1.1174 - root_mean_squared_error: 1.0571\n",
      "Epoch 26/100\n",
      "443/443 [==============================] - 2s 4ms/step - loss: 1.1175 - root_mean_squared_error: 1.0571\n",
      "Epoch 27/100\n",
      "443/443 [==============================] - 2s 4ms/step - loss: 1.1171 - root_mean_squared_error: 1.0569\n",
      "Epoch 28/100\n",
      "443/443 [==============================] - 2s 4ms/step - loss: 1.1174 - root_mean_squared_error: 1.0571\n",
      "Epoch 29/100\n",
      "443/443 [==============================] - 2s 4ms/step - loss: 1.1173 - root_mean_squared_error: 1.0570\n",
      "Epoch 30/100\n",
      "443/443 [==============================] - 2s 4ms/step - loss: 1.1172 - root_mean_squared_error: 1.0570\n",
      "Epoch 31/100\n",
      "443/443 [==============================] - 2s 4ms/step - loss: 1.1174 - root_mean_squared_error: 1.0571\n",
      "Epoch 32/100\n",
      "443/443 [==============================] - 2s 4ms/step - loss: 1.1173 - root_mean_squared_error: 1.0570\n",
      "Epoch 33/100\n",
      "443/443 [==============================] - 2s 4ms/step - loss: 1.1171 - root_mean_squared_error: 1.0570\n",
      "Epoch 34/100\n",
      "443/443 [==============================] - 2s 4ms/step - loss: 1.1173 - root_mean_squared_error: 1.0570\n",
      "Epoch 35/100\n",
      "443/443 [==============================] - 2s 4ms/step - loss: 1.1173 - root_mean_squared_error: 1.0570\n",
      "Epoch 36/100\n",
      "443/443 [==============================] - 2s 4ms/step - loss: 1.1174 - root_mean_squared_error: 1.0571\n",
      "Epoch 37/100\n",
      "443/443 [==============================] - 2s 4ms/step - loss: 1.1173 - root_mean_squared_error: 1.0570\n",
      "Epoch 38/100\n",
      "443/443 [==============================] - 2s 4ms/step - loss: 1.1171 - root_mean_squared_error: 1.0569\n",
      "Epoch 39/100\n",
      "443/443 [==============================] - 2s 4ms/step - loss: 1.1171 - root_mean_squared_error: 1.0569\n",
      "Epoch 40/100\n",
      "443/443 [==============================] - 2s 4ms/step - loss: 1.1173 - root_mean_squared_error: 1.0570\n",
      "Epoch 41/100\n",
      "443/443 [==============================] - 2s 4ms/step - loss: 1.1174 - root_mean_squared_error: 1.0570\n",
      "Epoch 42/100\n",
      "443/443 [==============================] - 2s 4ms/step - loss: 1.1171 - root_mean_squared_error: 1.0569\n",
      "Epoch 43/100\n",
      "443/443 [==============================] - 2s 4ms/step - loss: 1.1173 - root_mean_squared_error: 1.0570\n",
      "Epoch 44/100\n",
      "443/443 [==============================] - 2s 4ms/step - loss: 1.1173 - root_mean_squared_error: 1.0570\n",
      "Epoch 45/100\n",
      "443/443 [==============================] - 2s 4ms/step - loss: 1.1172 - root_mean_squared_error: 1.0570\n",
      "Epoch 46/100\n",
      "443/443 [==============================] - 2s 4ms/step - loss: 1.1172 - root_mean_squared_error: 1.0570\n",
      "Epoch 47/100\n",
      "443/443 [==============================] - 2s 5ms/step - loss: 1.1173 - root_mean_squared_error: 1.0570\n",
      "Epoch 48/100\n",
      "443/443 [==============================] - 2s 4ms/step - loss: 1.1170 - root_mean_squared_error: 1.0569\n",
      "Epoch 49/100\n",
      "443/443 [==============================] - 2s 5ms/step - loss: 1.1171 - root_mean_squared_error: 1.0569\n",
      "Epoch 50/100\n",
      "443/443 [==============================] - 2s 4ms/step - loss: 1.1170 - root_mean_squared_error: 1.0569\n",
      "Epoch 51/100\n",
      "443/443 [==============================] - 2s 4ms/step - loss: 1.1171 - root_mean_squared_error: 1.0569\n",
      "Epoch 52/100\n",
      "443/443 [==============================] - 2s 4ms/step - loss: 1.1172 - root_mean_squared_error: 1.0570\n",
      "Epoch 53/100\n",
      "443/443 [==============================] - 2s 4ms/step - loss: 1.1172 - root_mean_squared_error: 1.0570\n",
      "Epoch 54/100\n",
      "443/443 [==============================] - 2s 4ms/step - loss: 1.1170 - root_mean_squared_error: 1.0569\n",
      "Epoch 55/100\n",
      "443/443 [==============================] - 2s 4ms/step - loss: 1.1171 - root_mean_squared_error: 1.0569\n",
      "Epoch 56/100\n",
      "443/443 [==============================] - 2s 4ms/step - loss: 1.1171 - root_mean_squared_error: 1.0569\n",
      "Epoch 57/100\n",
      "443/443 [==============================] - 2s 4ms/step - loss: 1.1169 - root_mean_squared_error: 1.0568\n",
      "Epoch 58/100\n",
      "443/443 [==============================] - 2s 4ms/step - loss: 1.1171 - root_mean_squared_error: 1.0569\n",
      "Epoch 59/100\n",
      "443/443 [==============================] - 2s 4ms/step - loss: 1.1171 - root_mean_squared_error: 1.0569\n",
      "Epoch 60/100\n",
      "443/443 [==============================] - 2s 4ms/step - loss: 1.1171 - root_mean_squared_error: 1.0569\n",
      "Epoch 61/100\n",
      "443/443 [==============================] - 2s 4ms/step - loss: 1.1170 - root_mean_squared_error: 1.0569\n",
      "Epoch 62/100\n",
      "443/443 [==============================] - 2s 4ms/step - loss: 1.1171 - root_mean_squared_error: 1.0569\n",
      "Epoch 63/100\n",
      "443/443 [==============================] - 2s 4ms/step - loss: 1.1169 - root_mean_squared_error: 1.0569\n",
      "Epoch 64/100\n",
      "443/443 [==============================] - 2s 4ms/step - loss: 1.1171 - root_mean_squared_error: 1.0569\n",
      "Epoch 65/100\n",
      "443/443 [==============================] - 2s 4ms/step - loss: 1.1169 - root_mean_squared_error: 1.0568\n",
      "Epoch 66/100\n",
      "443/443 [==============================] - 2s 4ms/step - loss: 1.1172 - root_mean_squared_error: 1.0570\n",
      "Epoch 67/100\n",
      "443/443 [==============================] - 2s 4ms/step - loss: 1.1172 - root_mean_squared_error: 1.0570\n",
      "Epoch 68/100\n",
      "443/443 [==============================] - 2s 4ms/step - loss: 1.1169 - root_mean_squared_error: 1.0568\n",
      "Epoch 69/100\n",
      "443/443 [==============================] - 2s 4ms/step - loss: 1.1171 - root_mean_squared_error: 1.0569\n",
      "Epoch 70/100\n",
      "443/443 [==============================] - 2s 4ms/step - loss: 1.1170 - root_mean_squared_error: 1.0569\n",
      "Epoch 71/100\n",
      "443/443 [==============================] - 2s 4ms/step - loss: 1.1172 - root_mean_squared_error: 1.0570\n",
      "Epoch 72/100\n",
      "443/443 [==============================] - 2s 4ms/step - loss: 1.1168 - root_mean_squared_error: 1.0568\n",
      "Epoch 73/100\n",
      "443/443 [==============================] - 2s 4ms/step - loss: 1.1175 - root_mean_squared_error: 1.0571\n",
      "Epoch 74/100\n",
      "443/443 [==============================] - 2s 4ms/step - loss: 1.1170 - root_mean_squared_error: 1.0569\n",
      "Epoch 75/100\n",
      "443/443 [==============================] - 2s 4ms/step - loss: 1.1170 - root_mean_squared_error: 1.0569\n",
      "Epoch 76/100\n",
      "443/443 [==============================] - 2s 4ms/step - loss: 1.1169 - root_mean_squared_error: 1.0569\n",
      "Epoch 77/100\n",
      "443/443 [==============================] - 2s 4ms/step - loss: 1.1170 - root_mean_squared_error: 1.0569\n",
      "Epoch 78/100\n",
      "443/443 [==============================] - 2s 4ms/step - loss: 1.1170 - root_mean_squared_error: 1.0569\n",
      "Epoch 79/100\n",
      "443/443 [==============================] - 2s 4ms/step - loss: 1.1172 - root_mean_squared_error: 1.0570\n",
      "Epoch 80/100\n",
      "443/443 [==============================] - 2s 4ms/step - loss: 1.1170 - root_mean_squared_error: 1.0569\n",
      "Epoch 81/100\n",
      "443/443 [==============================] - 2s 4ms/step - loss: 1.1168 - root_mean_squared_error: 1.0568\n",
      "Epoch 82/100\n",
      "443/443 [==============================] - 2s 4ms/step - loss: 1.1171 - root_mean_squared_error: 1.0570\n",
      "Epoch 83/100\n",
      "443/443 [==============================] - 2s 4ms/step - loss: 1.1171 - root_mean_squared_error: 1.0569\n",
      "Epoch 84/100\n",
      "443/443 [==============================] - 2s 4ms/step - loss: 1.1170 - root_mean_squared_error: 1.0569\n",
      "Epoch 85/100\n",
      "443/443 [==============================] - 2s 4ms/step - loss: 1.1171 - root_mean_squared_error: 1.0569\n",
      "Epoch 86/100\n",
      "443/443 [==============================] - 2s 4ms/step - loss: 1.1171 - root_mean_squared_error: 1.0569\n",
      "Epoch 87/100\n",
      "443/443 [==============================] - 2s 4ms/step - loss: 1.1170 - root_mean_squared_error: 1.0569\n",
      "Epoch 88/100\n",
      "443/443 [==============================] - 2s 4ms/step - loss: 1.1170 - root_mean_squared_error: 1.0569\n",
      "Epoch 89/100\n",
      "443/443 [==============================] - 2s 4ms/step - loss: 1.1171 - root_mean_squared_error: 1.0569\n",
      "Epoch 90/100\n",
      "443/443 [==============================] - 2s 4ms/step - loss: 1.1171 - root_mean_squared_error: 1.0569\n",
      "Epoch 91/100\n",
      "443/443 [==============================] - 2s 4ms/step - loss: 1.1168 - root_mean_squared_error: 1.0568\n",
      "Epoch 92/100\n",
      "443/443 [==============================] - 2s 4ms/step - loss: 1.1169 - root_mean_squared_error: 1.0568\n",
      "Epoch 93/100\n",
      "443/443 [==============================] - 2s 4ms/step - loss: 1.1168 - root_mean_squared_error: 1.0568\n",
      "Epoch 94/100\n",
      "443/443 [==============================] - 2s 4ms/step - loss: 1.1168 - root_mean_squared_error: 1.0568\n",
      "Epoch 95/100\n",
      "443/443 [==============================] - 2s 4ms/step - loss: 1.1170 - root_mean_squared_error: 1.0569\n",
      "Epoch 96/100\n",
      "443/443 [==============================] - 2s 4ms/step - loss: 1.1170 - root_mean_squared_error: 1.0569\n",
      "Epoch 97/100\n",
      "443/443 [==============================] - 2s 4ms/step - loss: 1.1169 - root_mean_squared_error: 1.0568\n",
      "Epoch 98/100\n",
      "443/443 [==============================] - 2s 4ms/step - loss: 1.1171 - root_mean_squared_error: 1.0569\n",
      "Epoch 99/100\n",
      "443/443 [==============================] - 2s 4ms/step - loss: 1.1168 - root_mean_squared_error: 1.0568\n",
      "Epoch 100/100\n",
      "443/443 [==============================] - 2s 4ms/step - loss: 1.1166 - root_mean_squared_error: 1.0567\n",
      "222/222 [==============================] - 1s 2ms/step\n",
      "Error = 997.8950311722712 in ANN\n"
     ]
    }
   ],
   "source": [
    "print(f\"-----scaled with {scaler_name}-------- included columns are {feature_set_name}\")\n",
    "print(\"\")\n",
    "model_name = \"ANN\"   \n",
    "scaler_name = \"Standard scaler\"\n",
    "X = values_df[[\"prep_duration_prediction\", \"estimated_store_to_consumer_driving_duration\", \"estimated_order_place_duration\"]]\n",
    "y = values_df[\"total_duration\"]\n",
    "X_train, X_test, y_train, y_test = train_test_split(X, y, test_size=0.2, random_state=42)\n",
    "X_scaled, y_scaled, X_scaler, y_scaler = scale(scalers[scaler_name], X, y)\n",
    "X_train_scaled, X_test_scaled, y_train_scaled, y_test_scaled = train_test_split(\n",
    "    X_scaled, y_scaled, test_size=0.2, random_state=42)\n",
    "print(\"feature_set_size:\",X_train_scaled.shape[1])\n",
    "model = create_model(feature_set_size=X_train_scaled.shape[1])\n",
    "history = model.fit(X_train_scaled, y_train_scaled, epochs=100, batch_size=64, verbose=1)\n",
    "y_pred = model.predict(X_test_scaled)\n",
    "rmse_error = rmse_with_inv_transform(y_scaler, y_test, y_pred, model_name)\n",
    "pred_dict[\"regression_model\"].append(model_name)\n",
    "pred_dict[\"feature_set\"].append(feature_set_name)\n",
    "pred_dict[\"scaler_name\"].append(scaler_name)\n",
    "pred_dict[\"RMSE\"].append(rmse_error)"
   ]
  },
  {
   "cell_type": "code",
   "execution_count": 81,
   "metadata": {},
   "outputs": [
    {
     "data": {
      "image/png": "[encoded data removed]",
      "text/plain": [
       "<Figure size 640x480 with 1 Axes>"
      ]
     },
     "metadata": {},
     "output_type": "display_data"
    }
   ],
   "source": [
    "plt.plot(history.history['loss']) \n",
    "plt.title('Model loss') \n",
    "plt.ylabel('Loss') \n",
    "plt.xlabel('Epoch') \n",
    "plt.show()"
   ]
  },
  {
   "attachments": {},
   "cell_type": "markdown",
   "metadata": {},
   "source": [
    "We achieved the same performance with the MLP method from sklearn. It could be possible to improve the performance with hyperparameter tuning in the ANN, however, it would require a considerable amount time and effort. As we have a well performing Linear Regression model that is simple and fast we will use the LGBM + Linear Regression as our official solution."
   ]
  }
 ],
 "metadata": {
  "kernelspec": {
   "display_name": "mlp",
   "language": "python",
   "name": "python3"
  },
  "language_info": {
   "codemirror_mode": {
    "name": "ipython",
    "version": 3
   },
   "file_extension": ".py",
   "mimetype": "text/x-python",
   "name": "python",
   "nbconvert_exporter": "python",
   "pygments_lexer": "ipython3",
   "version": "3.8.15"
  },
  "orig_nbformat": 4
 },
 "nbformat": 4,
 "nbformat_minor": 2
}
